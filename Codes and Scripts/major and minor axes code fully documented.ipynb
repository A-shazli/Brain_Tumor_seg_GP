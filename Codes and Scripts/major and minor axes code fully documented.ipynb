{
  "nbformat": 4,
  "nbformat_minor": 0,
  "metadata": {
    "colab": {
      "provenance": []
    },
    "kernelspec": {
      "name": "python3",
      "display_name": "Python 3"
    },
    "language_info": {
      "name": "python"
    }
  },
  "cells": [
    {
      "cell_type": "code",
      "source": [
        "import cv2\n",
        "import numpy as np\n",
        "import math\n",
        "from math import isclose \n",
        "import matplotlib\n",
        "from matplotlib import pyplot as plt\n",
        "from google.colab.patches import cv2_imshow\n",
        "\n",
        "Input_Path = \"/content/tumor.png\"\n",
        "# reading the biggest surface area tumor image in gray scale\n",
        "Input_image = cv2.imread(Input_Path, cv2.IMREAD_GRAYSCALE)\n",
        "\n",
        "#converting it to three channels\n",
        "RGB_image = cv2.cvtColor(Input_image, cv2.COLOR_GRAY2RGB)\n",
        "# binarizing the gray scale image\n",
        "ret,Binary_Image=cv2.threshold(Input_image,127,255,cv2.THRESH_BINARY)\n",
        "\"\"\"\n",
        "Binary_Image[Binary_Image>220]=255\n",
        "Binary_Image[Binary_Image==255]=250\n",
        "Binary_Image[Binary_Image<250]=255\n",
        "Binary_Image[Binary_Image==250]=0\n",
        "\"\"\"\n",
        "#getting the surface area\n",
        "area_in_cm2=str(np.count_nonzero(Binary_Image==255)/100)\n",
        "#converting to numpy array\n",
        "Binary_Array = np.array(Binary_Image, dtype = 'uint8')\n",
        "#extracting the contours using cv2 library\n",
        "Contour, Hierarchy = cv2.findContours(Binary_Array, cv2.RETR_LIST, cv2.CHAIN_APPROX_NONE)\n",
        "#getting the biggest contour\n",
        "contour_max = max(Contour, key=cv2.contourArea)\n",
        "# saving the contour cordinates in a list\n",
        "List = []\n",
        "for p in contour_max:\n",
        "        point_array = np.array(p[0], dtype = 'int')\n",
        "        List.append(tuple(point_array))\n",
        "\n",
        "# extracting the major axis by \n",
        "#loping on the contour points and getting the max ecludian distace between the points\n",
        "Major_List = []\n",
        "for p1 in range(0, len(List)):\n",
        "    for p2 in range(p1+1, len(List)):\n",
        "      # making sure the line is inside the tumor area \n",
        "      Line_Image = np.zeros((Input_image.shape), dtype = 'uint8')\n",
        "      cv2.line(Line_Image, List[p1], List[p2], (1), thickness = 1, lineType = cv2.LINE_8)\n",
        "      Stencil = cv2.bitwise_and(Line_Image, Binary_Array)\n",
        "\n",
        "      if (Stencil == Line_Image).all():\n",
        "        # ecludian distance calculation\n",
        "        Distance = math.sqrt(math.pow(List[p1][0] - List[p2][0], 2) + math.pow(List[p1][1] - List[p2][1], 2))\n",
        "        Major_List.append([List[p1], List[p2], Distance])\n",
        "\n",
        "#getting the biggest line disance wise \n",
        "\n",
        "Major_Axis = max(Major_List, key = lambda sublist: sublist[2])\n",
        "print(\"major axis =\",Major_Axis)\n",
        "\n",
        "# extracting the major axis by \n",
        "#loping on the contour points and getting the max ecludian distace \n",
        "#between the points that is perpendicular to the major axis\n",
        "Minor_List = []\n",
        "# first if condition is when the major axis is parallel to the x-axis\n",
        "if (Major_Axis[1][1] - Major_Axis[0][1]) == 0:\n",
        "\n",
        "    for p1 in range(0, len(List)):\n",
        "      for p2 in range(p1+1, len(List)):\n",
        "\n",
        "        if (List[p1][0] - List[p2][0]) == 0:\n",
        "          # making sure the line is inside the tumor area \n",
        "          Minor_Line_Image = np.zeros((Input_image.shape), dtype = 'uint8')\n",
        "          cv2.line(Minor_Line_Image, List[p1], List[p2], (1), thickness = 1, lineType = cv2.LINE_8)\n",
        "          Minor_Stencil = cv2.bitwise_and(Minor_Line_Image, Binary_Array)\n",
        "          # ecludian distance calculation\n",
        "\n",
        "          if (Minor_Stencil == Minor_Line_Image).all():\n",
        "\n",
        "            Minor_Distance = math.sqrt(math.pow(List[p1][0] - List[p2][0], 2) + math.pow(List[p1][1] - List[p2][1], 2))\n",
        "            Minor_List.append([List[p1], List[p2], Minor_Distance])\n",
        "# second if condition is when the major axis is parallel to the y-axis\n",
        "elif (Major_Axis[1][0] - Major_Axis[0][0]) == 0:\n",
        "\n",
        "    for p1 in range(0, len(List)):\n",
        "      for p2 in range(p1+1, len(List)):\n",
        "\n",
        "        if (List[p1][1] - List[p2][1]) == 0:\n",
        "          # making sure the line is inside the tumor area \n",
        "          Minor_Line_Image = np.zeros((Input_image.shape), dtype = 'uint8')\n",
        "          cv2.line(Minor_Line_Image, List[p1], List[p2], (1), thickness = 1, lineType = cv2.LINE_8)\n",
        "          Minor_Stencil = cv2.bitwise_and(Minor_Line_Image, Binary_Array)\n",
        "\n",
        "          if (Minor_Stencil == Minor_Line_Image).all():\n",
        "          # ecludian distance calculation\n",
        "            Minor_Distance = math.sqrt(math.pow(List[p1][0] - List[p2][0], 2) + math.pow(List[p1][1] - List[p2][1], 2))\n",
        "            Minor_List.append([List[p1], List[p2], Minor_Distance])\n",
        "# third if condition is when the major axis is neither parallel to the x-axis nor the y-axis\n",
        "\n",
        "else:\n",
        "    Minor_Axis_Slope = (-1) * (Major_Axis[1][1] - Major_Axis[0][1]) / (Major_Axis[1][0] - Major_Axis[0][0])\n",
        "\n",
        "    for p1 in range(0, len(List)):\n",
        "      for p2 in range(p1+1, len(List)):\n",
        "\n",
        "        if (List[p1][0] - List[p2][0]) != 0 and (List[p1][1] - List[p2][1]) != 0 and isclose(((List[p1][0] - List[p2][0]) / (List[p1][1] - List[p2][1])), Minor_Axis_Slope, abs_tol = 0.01):\n",
        "          # making sure the line is inside the tumor area \n",
        "\n",
        "          Minor_Line_Image = np.zeros((Input_image.shape), dtype = 'uint8')\n",
        "          cv2.line(Minor_Line_Image, List[p1], List[p2], (1), thickness = 1, lineType = cv2.LINE_8)\n",
        "          Minor_Stencil = cv2.bitwise_and(Minor_Line_Image, Binary_Array)\n",
        "\n",
        "          if (Minor_Stencil == Minor_Line_Image).all():\n",
        "          # ecludian distance calculation\n",
        "\n",
        "            Minor_Distance = math.sqrt(math.pow(List[p1][0] - List[p2][0], 2) + math.pow(List[p1][1] - List[p2][1], 2))\n",
        "            Minor_List.append([List[p1], List[p2], Minor_Distance])\n",
        "\n",
        "#getting the biggest line disance wise \n",
        "Minor_Axis = max(Minor_List, key = lambda sublist: sublist[2])\n",
        "print(\"minor axis =\",Minor_Axis)\n",
        "\n",
        "minor_axis_string=str(Minor_Axis[2])\n",
        "major_axis_string=str(Major_Axis[2])\n",
        "\n",
        "fig, ax = plt.subplots(1,1,figsize=(10,10))\n",
        "ax.imshow(RGB_image, interpolation=None, cmap=plt.cm.Greys_r)\n",
        "ax.plot((Major_Axis[0][0], Major_Axis[1][0]), (Major_Axis[0][1], Major_Axis[1][1]), lw=2, c='r', label=\"Major axis=\"+major_axis_string[:5]+\"mm\")\n",
        "ax.plot((Minor_Axis[0][0], Minor_Axis[1][0]), (Minor_Axis[0][1], Minor_Axis[1][1]), lw=2, c='b', label=\"minor axis=\"+minor_axis_string[:5]+\"mm\")\n",
        "ax.plot([], [], ' ', label=\"Area of tumor=\"+area_in_cm2+\" cm2\")\n",
        "ax.legend()\n",
        "\n",
        "fig.show()\n"
      ],
      "metadata": {
        "id": "A6WvMKA6If-W",
        "colab": {
          "base_uri": "https://localhost:8080/",
          "height": 631
        },
        "outputId": "fe54ad7d-a44f-48ad-e1b3-dd79a0aab57f"
      },
      "execution_count": null,
      "outputs": [
        {
          "output_type": "stream",
          "name": "stdout",
          "text": [
            "major axis = [(84, 131), (153, 142), 69.87131027825369]\n",
            "minor axis = [(99, 158), (107, 108), 50.635955604688654]\n"
          ]
        },
        {
          "output_type": "display_data",
          "data": {
            "text/plain": [
              "<Figure size 720x720 with 1 Axes>"
            ],
            "image/png": "[encoded data removed]"
          },
          "metadata": {
            "needs_background": "light"
          }
        }
      ]
    },
    {
      "cell_type": "code",
      "source": [],
      "metadata": {
        "id": "rM4vVm5X8YW7"
      },
      "execution_count": null,
      "outputs": []
    }
  ]
}
