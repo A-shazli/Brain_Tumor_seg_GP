{
 "cells": [
  {
   "cell_type": "code",
   "execution_count": 1,
   "id": "992ba63e",
   "metadata": {},
   "outputs": [],
   "source": [
    "import os\n",
    "import nibabel as nib\n",
    "import numpy as np\n",
    "import tensorflow as tf\n",
    "\n",
    "data_dir = r'C:\\Users\\DELL\\Graduation Project\\Datasets\\Testing Dataloader\\BraTS2021_00000'\n",
    "batch_size = 32\n",
    "img_height = 256\n",
    "img_width = 256\n",
    "\n",
    "# Define the ImageDataGenerator with appropriate preprocessing parameters\n",
    "datagen = tf.keras.preprocessing.image.ImageDataGenerator(rescale=1./255)\n",
    "\n",
    "# Create a generator for loading the Nifti volumes\n",
    "def nifti_generator(data_dir, batch_size):\n",
    "    # List the Nifti files in the data directory\n",
    "    nifti_files = [os.path.join(data_dir, f) for f in os.listdir(data_dir) if f.endswith('.nii.gz') or f.endswith('.nii')]\n",
    "    \n",
    "    # Load the Nifti volumes and yield batches of images\n",
    "    while True:\n",
    "        np.random.shuffle(nifti_files)\n",
    "        for i in range(0, len(nifti_files), batch_size):\n",
    "            batch_files = nifti_files[i:i+batch_size]\n",
    "            batch_images = []\n",
    "            for file in batch_files:\n",
    "                nifti = nib.load(file)\n",
    "                # Get the image data from the Nifti volume\n",
    "                image = nifti.get_fdata()\n",
    "                # Resize the image to the desired size\n",
    "                image = tf.image.resize(image, [img_height, img_width])\n",
    "                # Add the image to the batch\n",
    "                batch_images.append(image)\n",
    "            # Apply the data augmentation and yield the batch of images\n",
    "            batch_images = np.stack(batch_images, axis=0)\n",
    "            yield datagen.flow(batch_images, batch_size=batch_size).next()\n",
    "\n",
    "# Create an image dataset from the Nifti generator\n",
    "nifti_dataset = tf.data.Dataset.from_generator(\n",
    "    nifti_generator, args=[data_dir, batch_size], \n",
    "    output_types=(tf.float32, tf.float32), \n",
    "    output_shapes=((batch_size, img_height, img_width, 1), (batch_size,)))\n"
   ]
  },
  {
   "cell_type": "code",
   "execution_count": 5,
   "id": "08385a2d",
   "metadata": {},
   "outputs": [
    {
     "name": "stdout",
     "output_type": "stream",
     "text": [
      "<FlatMapDataset shapes: ((32, 256, 256, 1), (32,)), types: (tf.float32, tf.float32)>\n"
     ]
    }
   ],
   "source": [
    "print(nifti_dataset)"
   ]
  },
  {
   "cell_type": "code",
   "execution_count": null,
   "id": "e0148ab9",
   "metadata": {},
   "outputs": [],
   "source": []
  }
 ],
 "metadata": {
  "kernelspec": {
   "display_name": "Python 3 (ipykernel)",
   "language": "python",
   "name": "python3"
  },
  "language_info": {
   "codemirror_mode": {
    "name": "ipython",
    "version": 3
   },
   "file_extension": ".py",
   "mimetype": "text/x-python",
   "name": "python",
   "nbconvert_exporter": "python",
   "pygments_lexer": "ipython3",
   "version": "3.9.16"
  }
 },
 "nbformat": 4,
 "nbformat_minor": 5
}
