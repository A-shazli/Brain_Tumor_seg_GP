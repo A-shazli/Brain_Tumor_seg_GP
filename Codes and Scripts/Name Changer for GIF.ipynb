{
 "cells": [
  {
   "cell_type": "code",
   "execution_count": 1,
   "id": "0f1ec23a",
   "metadata": {},
   "outputs": [],
   "source": [
    "import glob\n",
    "import numpy as np\n",
    "import cv2\n",
    "import imageio"
   ]
  },
  {
   "cell_type": "code",
   "execution_count": 6,
   "id": "21018a03",
   "metadata": {},
   "outputs": [],
   "source": [
    "paths = glob.glob(r'C:\\Users\\DELL\\Graduation Project\\GIFs and Models\\Brats 006\\images\\GIF Flair\\Flair_GIF/*.png')"
   ]
  },
  {
   "cell_type": "code",
   "execution_count": 7,
   "id": "34bbcdc5",
   "metadata": {
    "scrolled": true
   },
   "outputs": [],
   "source": [
    "for path in paths:\n",
    "    img = cv2.imread(path)\n",
    "    x = path.split('.')[-2].split('_')[-1]\n",
    "    if len(x) == 1:\n",
    "        x = \"00\" + x + \".png\"\n",
    "    elif len(x) == 2:\n",
    "        x = \"0\" + x + \".png\"\n",
    "    else :\n",
    "        x = x + \".png\"\n",
    "    final_path = '\\\\'.join(paths[0].split('\\\\')[0:-1]) + '\\\\' + x\n",
    "    imageio.imwrite(final_path, img[:, :, 0])"
   ]
  }
 ],
 "metadata": {
  "kernelspec": {
   "display_name": "Python 3 (ipykernel)",
   "language": "python",
   "name": "python3"
  },
  "language_info": {
   "codemirror_mode": {
    "name": "ipython",
    "version": 3
   },
   "file_extension": ".py",
   "mimetype": "text/x-python",
   "name": "python",
   "nbconvert_exporter": "python",
   "pygments_lexer": "ipython3",
   "version": "3.9.16"
  }
 },
 "nbformat": 4,
 "nbformat_minor": 5
}
