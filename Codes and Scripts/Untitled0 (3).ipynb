{
  "nbformat": 4,
  "nbformat_minor": 0,
  "metadata": {
    "colab": {
      "provenance": []
    },
    "kernelspec": {
      "name": "python3",
      "display_name": "Python 3"
    },
    "language_info": {
      "name": "python"
    }
  },
  "cells": [
    {
      "cell_type": "code",
      "execution_count": null,
      "metadata": {
        "colab": {
          "base_uri": "https://localhost:8080/"
        },
        "id": "FiPCDiK35XE4",
        "outputId": "bab85399-386b-4438-960d-56c91b798d0c"
      },
      "outputs": [
        {
          "output_type": "stream",
          "name": "stdout",
          "text": [
            "Looking in indexes: https://pypi.org/simple, https://us-python.pkg.dev/colab-wheels/public/simple/\n",
            "Collecting SimpleITK\n",
            "  Downloading SimpleITK-2.2.1-cp38-cp38-manylinux_2_17_x86_64.manylinux2014_x86_64.whl (52.7 MB)\n",
            "\u001b[2K     \u001b[90m━━━━━━━━━━━━━━━━━━━━━━━━━━━━━━━━━━━━━━━━\u001b[0m \u001b[32m52.7/52.7 MB\u001b[0m \u001b[31m16.5 MB/s\u001b[0m eta \u001b[36m0:00:00\u001b[0m\n",
            "\u001b[?25hInstalling collected packages: SimpleITK\n",
            "Successfully installed SimpleITK-2.2.1\n"
          ]
        }
      ],
      "source": [
        "! pip install SimpleITK\n",
        "import SimpleITK as sitk\n",
        "import numpy as np\n",
        "import cv2\n",
        "import matplotlib.pyplot as plt\n",
        "\n",
        "\n"
      ]
    },
    {
      "cell_type": "code",
      "source": [
        "\n"
      ],
      "metadata": {
        "id": "kY3dp4QPor9a"
      },
      "execution_count": null,
      "outputs": []
    },
    {
      "cell_type": "code",
      "source": [
        "from google.colab.patches import cv2_imshow\n",
        "image = cv2.imread(\"tumor.png\")\n",
        "imgray = cv2.cvtColor(image, cv2.COLOR_BGR2GRAY)\n",
        "stencil = np.zeros(image.shape).astype(image.dtype)\n",
        "contours, hierarchy = cv2.findContours(imgray,  cv2.RETR_EXTERNAL, cv2.CHAIN_APPROX_NONE)\n",
        "contour = max(contours, key=cv2.contourArea)\n",
        "image2=cv2.drawContours(image, [contour], -1, (0, 0, 255), -1)\n",
        "imgray2 = cv2.cvtColor(image2, cv2.COLOR_BGR2GRAY)\n",
        "imgray2[imgray2==255]=0\n",
        "imgray2[imgray2>0]=1\n",
        "#image3=imgray[np.where(i)]\n",
        "cv2_imshow(imgray2)\n"
      ],
      "metadata": {
        "colab": {
          "base_uri": "https://localhost:8080/",
          "height": 257
        },
        "id": "iJWv43pCYmU2",
        "outputId": "54c9f9ae-6e18-4738-a59a-00f6b0385bce"
      },
      "execution_count": null,
      "outputs": [
        {
          "output_type": "display_data",
          "data": {
            "text/plain": [
              "<PIL.Image.Image image mode=L size=240x240 at 0x7FAD09524490>"
            ],
            "image/png": "[encoded data removed]"
          },
          "metadata": {}
        }
      ]
    },
    {
      "cell_type": "code",
      "source": [
        "arr=imgray2\n",
        "img = sitk.GetImageFromArray(arr.astype(int))\n",
        "\n",
        "# generate label \n",
        "filter_label = sitk.LabelShapeStatisticsImageFilter()\n",
        "filter_label.SetComputeFeretDiameter(True)\n",
        "filter_label.Execute(img)\n",
        "\n",
        "# compute the Feret diameter\n",
        "# the 1 means we are computing for the label with value 1\n",
        "filter_label.GetFeretDiameter(1)"
      ],
      "metadata": {
        "colab": {
          "base_uri": "https://localhost:8080/"
        },
        "id": "RMqNGBvf6Z1n",
        "outputId": "c0c2993b-9e5f-4d0c-d600-b7910935c4f4"
      },
      "execution_count": null,
      "outputs": [
        {
          "output_type": "execute_result",
          "data": {
            "text/plain": [
              "69.87131027825369"
            ]
          },
          "metadata": {},
          "execution_count": 27
        }
      ]
    },
    {
      "cell_type": "code",
      "source": [
        "# we have to get a bit smarter for the principal moments\n",
        "pc1_x, pc1_y, pc2_x, pc2_y = filter_label.GetPrincipalAxes(1)\n",
        "print(pc1_x, pc1_y, pc2_x, pc2_y)\n",
        "# get the center of mass\n",
        "com_y, com_x = filter_label.GetCentroid(1)\n",
        "\n",
        "# now trace the distance from the centroid to the edge along the principal axes\n",
        "# we use some linear algebra\n",
        "\n",
        "# get the position of each point in the image\n",
        "v_x, v_y = np.where(arr)\n",
        "\n",
        "# convert these positions to a vector from the centroid\n",
        "v_pts = np.array((v_x - com_x, v_y - com_y)).T\n",
        "\n",
        "# project along the first principal component\n",
        "distances_pc1 = np.dot(v_pts, np.array((pc1_x, pc1_y)))\n",
        "\n",
        "# get the extent\n",
        "dmax_1 = distances_pc1.max()\n",
        "dmin_1 = distances_pc1.min()\n",
        "\n",
        "# project along the second principal component\n",
        "distances_pc2 = np.dot(v_pts, np.array((pc2_x, pc2_y)))\n",
        "\n",
        "# get the extent\n",
        "dmax_2 = distances_pc2.max()\n",
        "dmin_2 = distances_pc2.min()\n",
        "\n",
        "# the total diameter is the difference in these distances\n",
        "print(\"Distance along major axis:\", dmax_1 - dmin_1)\n",
        "print(\"Distance along minor axis:\", dmax_2 - dmin_2)"
      ],
      "metadata": {
        "colab": {
          "base_uri": "https://localhost:8080/"
        },
        "id": "XhmAIyuxG9B1",
        "outputId": "2dfc5d0d-49bc-4d3e-ee26-e450506e94ec"
      },
      "execution_count": null,
      "outputs": [
        {
          "output_type": "stream",
          "name": "stdout",
          "text": [
            "0.2717571059573108 -0.962365873959435 0.9623658739594352 0.27175710595731084\n",
            "Distance along major axis: 67.21851662107295\n",
            "Distance along minor axis: 57.380467306738026\n"
          ]
        }
      ]
    },
    {
      "cell_type": "code",
      "source": [
        "from matplotlib.patches import Rectangle\n",
        "fig, ax = plt.subplots(1,1,figsize=(5,5))\n",
        "ax.imshow(arr, interpolation=None, cmap=plt.cm.Greys_r)\n",
        "ax.plot([], [], ' ', label=\"Area=25.72 cm2\")\n",
        "ax.scatter(com_y, com_x, c=\"g\", marker=\"o\", s=50, zorder=99, label=\"COM\")\n",
        "\n",
        "ax.plot((com_y, com_y+dmax_1*pc1_y), (com_x, com_x+dmax_1*pc1_x), lw=2, c='b')\n",
        "ax.plot((com_y, com_y+dmin_1*pc1_y), (com_x, com_x+dmin_1*pc1_x), lw=2, c='b', label=\"Major axis\")\n",
        "\n",
        "ax.plot((com_y, com_y+dmax_2*pc2_y), (com_x, com_x+dmax_2*pc2_x), lw=2, c='r')\n",
        "ax.plot((com_y, com_y+dmin_2*pc2_y), (com_x, com_x+dmin_2*pc2_x), lw=2, c='r', label=\"Minor axis\")\n",
        "\n",
        "\n",
        "\n",
        "ax.legend()\n",
        "\n",
        "fig.show()\n"
      ],
      "metadata": {
        "colab": {
          "base_uri": "https://localhost:8080/",
          "height": 322
        },
        "id": "yZ061UsiIcE4",
        "outputId": "3971ca5c-d4f9-4873-b7cf-753269efff8f"
      },
      "execution_count": null,
      "outputs": [
        {
          "output_type": "display_data",
          "data": {
            "text/plain": [
              "<Figure size 360x360 with 1 Axes>"
            ],
            "image/png": "[encoded data removed]"
          },
          "metadata": {
            "needs_background": "light"
          }
        }
      ]
    },
    {
      "cell_type": "code",
      "source": [
        "import cv2\n",
        "import numpy as np\n",
        "import math\n",
        "\n",
        "\n",
        "from math import isclose \n",
        "\n",
        "import matplotlib\n",
        "from matplotlib import pyplot as plt\n",
        "\n",
        "Input_Path = \"tumor.png\"\n",
        "\n",
        "Input_image = cv2.imread(Input_Path, cv2.IMREAD_GRAYSCALE)\n",
        "\n",
        "RGB_image = cv2.cvtColor(Input_image, cv2.COLOR_GRAY2RGB)\n",
        "Contour_image = RGB_image.copy()\n",
        "\n",
        "Binary_Image = cv2.imread(Input_Path, cv2.IMREAD_GRAYSCALE)\n",
        "ret,Binary_Image=cv2.threshold(Binary_Image,127,255,cv2.THRESH_BINARY)\n",
        "area_in_cm2=str(np.count_nonzero(Binary_Image==255)/100)\n",
        "Binary_Array = np.array(Binary_Image, dtype = 'uint8')\n",
        "\n",
        "\n",
        "Contour, Hierarchy = cv2.findContours(Input_image, cv2.RETR_LIST, cv2.CHAIN_APPROX_NONE)\n",
        "contour_max = max(Contour, key=cv2.contourArea)\n",
        "\n",
        "\n",
        "\n",
        "List = []\n",
        "for p in contour_max:\n",
        "        point_array = np.array(p[0], dtype = 'int')\n",
        "        List.append(tuple(point_array))\n",
        "\n",
        "Major_List = []\n",
        "for p1 in range(0, len(List)):\n",
        "    for p2 in range(p1+1, len(List)):\n",
        "\n",
        "        Distance = math.sqrt(math.pow(List[p1][0] - List[p2][0], 2) + math.pow(List[p1][1] - List[p2][1], 2))\n",
        "        Major_List.append([List[p1], List[p2], Distance])\n",
        "\n",
        "\n",
        "Major_Axis = max(Major_List, key = lambda sublist: sublist[2])\n",
        "print(\"major axis =\",Major_Axis)\n",
        "\n",
        "\n",
        "Minor_List = []\n",
        "if (Major_Axis[1][1] - Major_Axis[0][1]) == 0:\n",
        "\n",
        "    for p1 in range(0, len(List)):\n",
        "      for p2 in range(p1+1, len(List)):\n",
        "\n",
        "        if (List[p1][0] - List[p2][0]) == 0:\n",
        "\n",
        "        \n",
        "            Minor_Distance = math.sqrt(math.pow(List[p1][0] - List[p2][0], 2) + math.pow(List[p1][1] - List[p2][1], 2))\n",
        "            Minor_List.append([List[p1], List[p2], Minor_Distance])\n",
        "\n",
        "elif (Major_Axis[1][0] - Major_Axis[0][0]) == 0:\n",
        "\n",
        "    for p1 in range(0, len(List)):\n",
        "      for p2 in range(p1+1, len(List)):\n",
        "\n",
        "        if (List[p1][1] - List[p2][1]) == 0:\n",
        "\n",
        "          \n",
        "            Minor_Distance = math.sqrt(math.pow(List[p1][0] - List[p2][0], 2) + math.pow(List[p1][1] - List[p2][1], 2))\n",
        "            Minor_List.append([List[p1], List[p2], Minor_Distance])\n",
        "\n",
        "else:\n",
        "    Minor_Axis_Slope = (-1) * (Major_Axis[1][1] - Major_Axis[0][1]) / (Major_Axis[1][0] - Major_Axis[0][0])\n",
        "    #Minor_Axis_Slope = (-1) * math.pow(Major_Axis_Slope, -1)\n",
        "\n",
        "    for p1 in range(0, len(List)):\n",
        "      for p2 in range(p1+1, len(List)):\n",
        "\n",
        "        if (List[p1][0] - List[p2][0]) != 0 and (List[p1][1] - List[p2][1]) != 0 and isclose(((List[p1][0] - List[p2][0]) / (List[p1][1] - List[p2][1])), Minor_Axis_Slope, abs_tol = 1e-2):\n",
        "\n",
        "       \n",
        "            Minor_Distance = math.sqrt(math.pow(List[p1][0] - List[p2][0], 2) + math.pow(List[p1][1] - List[p2][1], 2))\n",
        "            Minor_List.append([List[p1], List[p2], Minor_Distance])\n",
        "\n",
        "\n",
        "Minor_Axis = max(Minor_List, key = lambda sublist: sublist[2])\n",
        "print(\"minor axis =\",Minor_Axis)\n",
        "\n",
        "minor_axis_string=str(Minor_Axis[2])\n",
        "major_axis_string=str(Major_Axis[2])\n",
        "\n",
        "fig, ax = plt.subplots(1,1,figsize=(5,5))\n",
        "ax.imshow(RGB_image, interpolation=None, cmap=plt.cm.Greys_r)\n",
        "ax.plot((Major_Axis[0][0], Major_Axis[1][0]), (Major_Axis[0][1], Major_Axis[1][1]), lw=2, c='r', label=\"Major axis=\"+major_axis_string[:5]+\"mm\")\n",
        "ax.plot((Minor_Axis[0][0], Minor_Axis[1][0]), (Minor_Axis[0][1], Minor_Axis[1][1]), lw=2, c='b', label=\"minor axis=\"+minor_axis_string[:5]+\"mm\")\n",
        "ax.plot([], [], ' ', label=\"Area of tumor=\"+area_in_cm2+\" cm2\")\n",
        "ax.legend()\n",
        "\n",
        "fig.show()\n"
      ],
      "metadata": {
        "id": "A6WvMKA6If-W",
        "colab": {
          "base_uri": "https://localhost:8080/",
          "height": 358
        },
        "outputId": "cfacf9cf-31f4-4578-bb53-070dff65d5dd"
      },
      "execution_count": 15,
      "outputs": [
        {
          "output_type": "stream",
          "name": "stdout",
          "text": [
            "major axis = [(84, 131), (153, 142), 69.87131027825369]\n",
            "minor axis = [(99, 158), (107, 108), 50.635955604688654]\n"
          ]
        },
        {
          "output_type": "display_data",
          "data": {
            "text/plain": [
              "<Figure size 360x360 with 1 Axes>"
            ],
            "image/png": "[encoded data removed]"
          },
          "metadata": {
            "needs_background": "light"
          }
        }
      ]
    },
    {
      "cell_type": "code",
      "source": [],
      "metadata": {
        "id": "rM4vVm5X8YW7"
      },
      "execution_count": null,
      "outputs": []
    }
  ]
}