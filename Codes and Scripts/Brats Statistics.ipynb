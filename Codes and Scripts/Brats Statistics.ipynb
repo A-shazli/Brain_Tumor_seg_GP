{
 "cells": [
  {
   "cell_type": "code",
   "execution_count": 2,
   "id": "eeb666b4",
   "metadata": {},
   "outputs": [],
   "source": [
    "import os\n",
    "import pandas as pd"
   ]
  },
  {
   "cell_type": "code",
   "execution_count": 22,
   "id": "d1344237",
   "metadata": {},
   "outputs": [
    {
     "data": {
      "text/plain": [
       "['ResNet-4 (259 ep) T1-FLAIR.csv',\n",
       " 'ResNet-7 (30 ep) T2-FLAIR.csv',\n",
       " 'ResNet-7 (71 ep) T2-FLAIR.csv',\n",
       " 'SqzAtt (16 ep) T2-FLAIR.csv',\n",
       " 'SqzAtt (30 ep) T1-FLAIR.csv',\n",
       " 'SqzAtt (30 ep) T1-T2.csv',\n",
       " 'UNet (150 ep) T1-T2.csv']"
      ]
     },
     "execution_count": 22,
     "metadata": {},
     "output_type": "execute_result"
    }
   ],
   "source": [
    "csv_files"
   ]
  },
  {
   "cell_type": "code",
   "execution_count": 31,
   "id": "f93a45d5",
   "metadata": {},
   "outputs": [],
   "source": [
    "import os\n",
    "import pandas as pd\n",
    "\n",
    "# Folder path containing the CSV files\n",
    "folder_path = r'E:\\Graduation Project\\Metrics\\Metrics'\n",
    "\n",
    "# Get the list of CSV files in the folder\n",
    "csv_files = [file for file in os.listdir(folder_path) if file.endswith('.csv')]\n",
    "\n",
    "# Create an empty DataFrame to store the results\n",
    "results = pd.DataFrame()\n",
    "\n",
    "# Iterate over each CSV file\n",
    "for file in csv_files:\n",
    "    # Read the CSV file into a DataFrame, skipping the first row (header) and first column (row names)\n",
    "    df = pd.read_csv(os.path.join(folder_path, file)) \n",
    "    df = df.iloc[:, 1+2:3+2]\n",
    "#     print(df)\n",
    "#     break\n",
    "    # Calculate the statistics for each column\n",
    "    statistics = df.describe(percentiles=[0.25, 0.5, 0.75]).transpose()\n",
    "    statistics['min'] = df.min()\n",
    "    statistics['max'] = df.max()\n",
    "    statistics['mean'] = df.mean()\n",
    "    \n",
    "    # Append the statistics to the results DataFrame\n",
    "    results = pd.concat([results, statistics])\n",
    "\n",
    "# Transpose the results DataFrame\n",
    "results = results.transpose()\n",
    "\n",
    "# Save the transposed results to a new CSV file\n",
    "results.to_csv(r'E:\\Graduation Project\\Metrics\\Stats (MAE).csv')"
   ]
  },
  {
   "cell_type": "code",
   "execution_count": null,
   "id": "d0335666",
   "metadata": {},
   "outputs": [],
   "source": []
  }
 ],
 "metadata": {
  "kernelspec": {
   "display_name": "Python 3 (ipykernel)",
   "language": "python",
   "name": "python3"
  },
  "language_info": {
   "codemirror_mode": {
    "name": "ipython",
    "version": 3
   },
   "file_extension": ".py",
   "mimetype": "text/x-python",
   "name": "python",
   "nbconvert_exporter": "python",
   "pygments_lexer": "ipython3",
   "version": "3.9.16"
  }
 },
 "nbformat": 4,
 "nbformat_minor": 5
}
