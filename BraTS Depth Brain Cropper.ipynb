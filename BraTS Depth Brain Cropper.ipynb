{
 "cells": [
  {
   "cell_type": "markdown",
   "source": [
    "## Imports"
   ],
   "metadata": {
    "collapsed": false
   }
  },
  {
   "cell_type": "code",
   "execution_count": 1,
   "outputs": [],
   "source": [
    "import os\n",
    "import nibabel as nib\n",
    "import glob"
   ],
   "metadata": {
    "collapsed": false,
    "pycharm": {
     "name": "#%%\n"
    }
   }
  },
  {
   "cell_type": "markdown",
   "source": [
    "### Reading all BraTS21 examples, change the root_path to you base address"
   ],
   "metadata": {
    "collapsed": false
   }
  },
  {
   "cell_type": "code",
   "execution_count": 2,
   "outputs": [],
   "source": [
    "root_path = 'Sample BraTS21 50 Examples'\n",
    "data_list = sorted(glob.glob(root_path + '/*'))        #list of paths of the inside files"
   ],
   "metadata": {
    "collapsed": false,
    "pycharm": {
     "name": "#%%\n"
    }
   }
  },
  {
   "cell_type": "markdown",
   "source": [
    "#### The following function is responsible for returning the indices of the depth of the volume that contains labels."
   ],
   "metadata": {
    "collapsed": false
   }
  },
  {
   "cell_type": "code",
   "execution_count": 3,
   "outputs": [],
   "source": [
    "def find_tumor(wid, hei):\n",
    "    slice2D = img.get_fdata()[:, :, i]\n",
    "    for j in range(wid):\n",
    "        for k in range(hei):\n",
    "            if slice2D[j, k] != 0:\n",
    "                return i\n",
    "    return 0"
   ],
   "metadata": {
    "collapsed": false,
    "pycharm": {
     "name": "#%%\n"
    }
   }
  },
  {
   "cell_type": "markdown",
   "source": [
    "#### Creating results folder that will contain the cropped volumes"
   ],
   "metadata": {
    "collapsed": false
   }
  },
  {
   "cell_type": "code",
   "execution_count": 4,
   "outputs": [],
   "source": [
    "# Create results folder\n",
    "results_path_path = r'Sample BraTS21 50 Examples Depth Cropped'\n",
    "if not os.path.exists(results_path_path):\n",
    "    os.makedirs(results_path_path)"
   ],
   "metadata": {
    "collapsed": false,
    "pycharm": {
     "name": "#%%\n"
    }
   }
  },
  {
   "cell_type": "markdown",
   "source": [
    "#### Looping in every example and in every module in the volume to crop it to contain only the part that is already segmented"
   ],
   "metadata": {
    "collapsed": false
   }
  },
  {
   "cell_type": "code",
   "execution_count": 8,
   "outputs": [],
   "source": [
    "for vol in data_list:\n",
    "    modules_list = sorted(glob.glob(vol + '/*'))          #modules list of a single volume\n",
    "    t1_vol_path = modules_list[2]                        #path of T1 volume is always the third ('sorted')\n",
    "    img = nib.load(t1_vol_path)                          #segmentation volume\n",
    "\n",
    "    height, width, depth = img.shape\n",
    "    filled_slices = []                                    #slices with at least one label\n",
    "\n",
    "    for i in range(depth):\n",
    "        depth_idx = find_tumor(width, height)\n",
    "        if depth_idx != 0:\n",
    "            filled_slices.append(depth_idx)\n",
    "\n",
    "    min_depth_idx, max_depth_idx = filled_slices[0], filled_slices[-1]\n",
    "    for module_path in modules_list:\n",
    "        module_vol = nib.load(module_path)\n",
    "        cropped_vol = module_vol.get_fdata()[:, :, min_depth_idx : (max_depth_idx+1)]\n",
    "        nifti_img =  nib.Nifti1Image(cropped_vol, module_vol.affine)     # to save this 3D (ndarry) numpy use this\n",
    "\n",
    "        vol_new_path = results_path_path + '/' +vol.split('\\\\')[1]\n",
    "        if not os.path.exists(vol_new_path):\n",
    "            os.makedirs(vol_new_path)\n",
    "\n",
    "        module_new_path = vol_new_path + '/' + module_path.split('\\\\')[-1]\n",
    "        nib.save(nifti_img, module_new_path)"
   ],
   "metadata": {
    "collapsed": false,
    "pycharm": {
     "name": "#%%\n"
    }
   }
  },
  {
   "cell_type": "markdown",
   "source": [
    "#### Testing Random image"
   ],
   "metadata": {
    "collapsed": false
   }
  },
  {
   "cell_type": "code",
   "execution_count": 9,
   "outputs": [
    {
     "data": {
      "text/plain": "(240, 240, 137)"
     },
     "execution_count": 9,
     "metadata": {},
     "output_type": "execute_result"
    }
   ],
   "source": [
    "test_path = r'C:\\Users\\Mohamed Bushnaq\\PycharmProjects\\Slices\\Sample BraTS21 50 Examples Depth Cropped\\BraTS2021_00020\\BraTS2021_00020_t1.nii.gz'\n",
    "img_test = nib.load(test_path)\n",
    "\n",
    "img_test.shape"
   ],
   "metadata": {
    "collapsed": false,
    "pycharm": {
     "name": "#%%\n"
    }
   }
  },
  {
   "cell_type": "markdown",
   "source": [
    "#### Image shape was (240, 240, 155) Before cropping, now it's (240, 240, 137) for this example (Random)"
   ],
   "metadata": {
    "collapsed": false,
    "pycharm": {
     "name": "#%% md\n"
    }
   }
  }
 ],
 "metadata": {
  "kernelspec": {
   "display_name": "Python 3",
   "language": "python",
   "name": "python3"
  },
  "language_info": {
   "codemirror_mode": {
    "name": "ipython",
    "version": 2
   },
   "file_extension": ".py",
   "mimetype": "text/x-python",
   "name": "python",
   "nbconvert_exporter": "python",
   "pygments_lexer": "ipython2",
   "version": "2.7.6"
  }
 },
 "nbformat": 4,
 "nbformat_minor": 0
}