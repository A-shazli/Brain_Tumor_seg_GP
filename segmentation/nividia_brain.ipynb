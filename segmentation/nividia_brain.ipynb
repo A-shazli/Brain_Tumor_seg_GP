{
  "cells": [
    {
      "cell_type": "code",
      "execution_count": null,
      "metadata": {
        "colab": {
          "base_uri": "https://localhost:8080/"
        },
        "id": "n43zMtlTSDZg",
        "outputId": "677fcbb8-cb88-4b62-cfff-098f2e237b29"
      },
      "outputs": [
        {
          "name": "stdout",
          "output_type": "stream",
          "text": [
            "Cloning into 'DeepLearningExamples'...\n",
            "remote: Enumerating objects: 33148, done.\u001b[K\n",
            "remote: Counting objects: 100% (971/971), done.\u001b[K\n",
            "remote: Compressing objects: 100% (667/667), done.\u001b[K\n",
            "remote: Total 33148 (delta 335), reused 858 (delta 279), pack-reused 32177\u001b[K\n",
            "Receiving objects: 100% (33148/33148), 106.84 MiB | 25.61 MiB/s, done.\n",
            "Resolving deltas: 100% (23249/23249), done.\n",
            "Updating files: 100% (5338/5338), done.\n"
          ]
        }
      ],
      "source": [
        "!git clone https://github.com/NVIDIA/DeepLearningExamples"
      ]
    },
    {
      "cell_type": "code",
      "execution_count": null,
      "metadata": {
        "id": "Xzoy7A0LPcnq"
      },
      "outputs": [],
      "source": [
        "!cp -R \"/content/data\" \"/content/drive/MyDrive/finally_black_flair\""
      ]
    },
    {
      "cell_type": "code",
      "execution_count": null,
      "metadata": {
        "id": "UxEtIYdszR_b"
      },
      "outputs": [],
      "source": [
        "import os\n",
        "os.makedirs(\"/content/data/BraTS2021_train\")\n"
      ]
    },
    {
      "cell_type": "code",
      "execution_count": null,
      "metadata": {
        "colab": {
          "background_save": true,
          "base_uri": "https://localhost:8080/"
        },
        "id": "szdAXQRi_B4E",
        "outputId": "75506a63-c875-481f-c46f-81028b09874e"
      },
      "outputs": [],
      "source": [
        "!unzip \"/content/drive/MyDrive/BraTS Validation Brain Cropped.zip\" -d \"/content/data/BraTS2021_train\""
      ]
    },
    {
      "cell_type": "code",
      "execution_count": null,
      "metadata": {
        "colab": {
          "base_uri": "https://localhost:8080/"
        },
        "id": "32fp30cQYnpn",
        "outputId": "3486941c-83ea-4781-e5ac-050b8eabd6fd"
      },
      "outputs": [
        {
          "name": "stdout",
          "output_type": "stream",
          "text": [
            "^C\n"
          ]
        }
      ],
      "source": [
        "!tar -xf \"/content/drive/MyDrive/all_brats_data/BraTS2021_Training_Data.tar\" -C \"/content/data/BraTS2021_train\""
      ]
    },
    {
      "cell_type": "code",
      "execution_count": null,
      "metadata": {
        "id": "LiQ24ZEg-e_v"
      },
      "outputs": [],
      "source": [
        "!rm -r \"/content/content\"\n"
      ]
    },
    {
      "cell_type": "code",
      "execution_count": null,
      "metadata": {
        "colab": {
          "base_uri": "https://localhost:8080/"
        },
        "id": "ca8tpLh2cpEI",
        "outputId": "c8e631c2-8f97-45f4-c993-d06e5e3743ed"
      },
      "outputs": [
        {
          "name": "stdout",
          "output_type": "stream",
          "text": [
            "find: warning: you have specified the global option -mindepth after the argument -type, but global options are not positional, i.e., -mindepth affects tests specified before it as well as those specified after it.  Please specify global options before other arguments.\n",
            "find: warning: you have specified the global option -maxdepth after the argument -type, but global options are not positional, i.e., -maxdepth affects tests specified before it as well as those specified after it.  Please specify global options before other arguments.\n",
            "find: ‘/content/drive/MyDrive/data_for_predection’: No such file or directory\n",
            "0\n"
          ]
        }
      ],
      "source": [
        "!find \"/content/drive/MyDrive/data_for_predection\" -type d -mindepth 1 -maxdepth 1 | wc -l\n"
      ]
    },
    {
      "cell_type": "code",
      "execution_count": null,
      "metadata": {
        "colab": {
          "base_uri": "https://localhost:8080/"
        },
        "id": "3CcnpwywydLd",
        "outputId": "5de2a33e-beef-4fac-e80f-5aef84798d4f"
      },
      "outputs": [
        {
          "name": "stdout",
          "output_type": "stream",
          "text": [
            "252\n"
          ]
        }
      ],
      "source": [
        "!ls \"/content/drive/MyDrive/nvidia T1CCCC final please/predictions_last_task=11_fold=0_tta\" | wc -l\n"
      ]
    },
    {
      "cell_type": "code",
      "execution_count": null,
      "metadata": {
        "colab": {
          "background_save": true,
          "base_uri": "https://localhost:8080/"
        },
        "id": "fhxCXlNqYXWI",
        "outputId": "9fc13abf-db43-40dd-aebb-9dc8cb4271e2"
      },
      "outputs": [
        {
          "name": "stdout",
          "output_type": "stream",
          "text": [
            "Collecting monai\n",
            "  Downloading monai-1.2.0-202306081546-py3-none-any.whl (1.3 MB)\n",
            "\u001b[?25l     \u001b[90m━━━━━━━━━━━━━━━━━━━━━━━━━━━━━━━━━━━━━━━━\u001b[0m \u001b[32m0.0/1.3 MB\u001b[0m \u001b[31m?\u001b[0m eta \u001b[36m-:--:--\u001b[0m\r\u001b[2K     \u001b[91m━━━━━━━━━━\u001b[0m\u001b[90m╺\u001b[0m\u001b[90m━━━━━━━━━━━━━━━━━━━━━━━━━━━━━\u001b[0m \u001b[32m0.3/1.3 MB\u001b[0m \u001b[31m9.5 MB/s\u001b[0m eta \u001b[36m0:00:01\u001b[0m\r\u001b[2K     \u001b[91m━━━━━━━━━━━━━━━━━━━━━━━━━━━━━━━━━━━━━━━\u001b[0m\u001b[91m╸\u001b[0m \u001b[32m1.3/1.3 MB\u001b[0m \u001b[31m22.8 MB/s\u001b[0m eta \u001b[36m0:00:01\u001b[0m\r\u001b[2K     \u001b[90m━━━━━━━━━━━━━━━━━━━━━━━━━━━━━━━━━━━━━━━━\u001b[0m \u001b[32m1.3/1.3 MB\u001b[0m \u001b[31m15.5 MB/s\u001b[0m eta \u001b[36m0:00:00\u001b[0m\n",
            "\u001b[?25hRequirement already satisfied: torch>=1.9 in /usr/local/lib/python3.10/dist-packages (from monai) (2.0.1+cu118)\n",
            "Requirement already satisfied: numpy>=1.20 in /usr/local/lib/python3.10/dist-packages (from monai) (1.22.4)\n",
            "Requirement already satisfied: filelock in /usr/local/lib/python3.10/dist-packages (from torch>=1.9->monai) (3.12.2)\n",
            "Requirement already satisfied: typing-extensions in /usr/local/lib/python3.10/dist-packages (from torch>=1.9->monai) (4.7.1)\n",
            "Requirement already satisfied: sympy in /usr/local/lib/python3.10/dist-packages (from torch>=1.9->monai) (1.11.1)\n",
            "Requirement already satisfied: networkx in /usr/local/lib/python3.10/dist-packages (from torch>=1.9->monai) (3.1)\n",
            "Requirement already satisfied: jinja2 in /usr/local/lib/python3.10/dist-packages (from torch>=1.9->monai) (3.1.2)\n",
            "Requirement already satisfied: triton==2.0.0 in /usr/local/lib/python3.10/dist-packages (from torch>=1.9->monai) (2.0.0)\n",
            "Requirement already satisfied: cmake in /usr/local/lib/python3.10/dist-packages (from triton==2.0.0->torch>=1.9->monai) (3.25.2)\n",
            "Requirement already satisfied: lit in /usr/local/lib/python3.10/dist-packages (from triton==2.0.0->torch>=1.9->monai) (16.0.6)\n",
            "Requirement already satisfied: MarkupSafe>=2.0 in /usr/local/lib/python3.10/dist-packages (from jinja2->torch>=1.9->monai) (2.1.3)\n",
            "Requirement already satisfied: mpmath>=0.19 in /usr/local/lib/python3.10/dist-packages (from sympy->torch>=1.9->monai) (1.3.0)\n",
            "Installing collected packages: monai\n",
            "Successfully installed monai-1.2.0\n"
          ]
        }
      ],
      "source": [
        "!pip install monai"
      ]
    },
    {
      "cell_type": "code",
      "execution_count": null,
      "metadata": {
        "colab": {
          "background_save": true,
          "base_uri": "https://localhost:8080/"
        },
        "id": "JpJxzAZQYgCb",
        "outputId": "f85f02da-8ab8-4238-95cc-f19048f8defa"
      },
      "outputs": [
        {
          "name": "stdout",
          "output_type": "stream",
          "text": [
            "Collecting pytorch_lightning==1.9.4\n",
            "  Downloading pytorch_lightning-1.9.4-py3-none-any.whl (827 kB)\n",
            "\u001b[2K     \u001b[90m━━━━━━━━━━━━━━━━━━━━━━━━━━━━━━━━━━━━━━\u001b[0m \u001b[32m827.8/827.8 kB\u001b[0m \u001b[31m11.0 MB/s\u001b[0m eta \u001b[36m0:00:00\u001b[0m\n",
            "\u001b[?25hRequirement already satisfied: numpy>=1.17.2 in /usr/local/lib/python3.10/dist-packages (from pytorch_lightning==1.9.4) (1.22.4)\n",
            "Requirement already satisfied: torch>=1.10.0 in /usr/local/lib/python3.10/dist-packages (from pytorch_lightning==1.9.4) (2.0.1+cu118)\n",
            "Requirement already satisfied: tqdm>=4.57.0 in /usr/local/lib/python3.10/dist-packages (from pytorch_lightning==1.9.4) (4.65.0)\n",
            "Requirement already satisfied: PyYAML>=5.4 in /usr/local/lib/python3.10/dist-packages (from pytorch_lightning==1.9.4) (6.0)\n",
            "Requirement already satisfied: fsspec[http]>2021.06.0 in /usr/local/lib/python3.10/dist-packages (from pytorch_lightning==1.9.4) (2023.6.0)\n",
            "Collecting torchmetrics>=0.7.0 (from pytorch_lightning==1.9.4)\n",
            "  Downloading torchmetrics-1.0.1-py3-none-any.whl (729 kB)\n",
            "\u001b[2K     \u001b[90m━━━━━━━━━━━━━━━━━━━━━━━━━━━━━━━━━━━━━━\u001b[0m \u001b[32m729.2/729.2 kB\u001b[0m \u001b[31m22.5 MB/s\u001b[0m eta \u001b[36m0:00:00\u001b[0m\n",
            "\u001b[?25hRequirement already satisfied: packaging>=17.1 in /usr/local/lib/python3.10/dist-packages (from pytorch_lightning==1.9.4) (23.1)\n",
            "Requirement already satisfied: typing-extensions>=4.0.0 in /usr/local/lib/python3.10/dist-packages (from pytorch_lightning==1.9.4) (4.7.1)\n",
            "Collecting lightning-utilities>=0.6.0.post0 (from pytorch_lightning==1.9.4)\n",
            "  Downloading lightning_utilities-0.9.0-py3-none-any.whl (23 kB)\n",
            "Requirement already satisfied: requests in /usr/local/lib/python3.10/dist-packages (from fsspec[http]>2021.06.0->pytorch_lightning==1.9.4) (2.27.1)\n",
            "Requirement already satisfied: aiohttp!=4.0.0a0,!=4.0.0a1 in /usr/local/lib/python3.10/dist-packages (from fsspec[http]>2021.06.0->pytorch_lightning==1.9.4) (3.8.4)\n",
            "Requirement already satisfied: filelock in /usr/local/lib/python3.10/dist-packages (from torch>=1.10.0->pytorch_lightning==1.9.4) (3.12.2)\n",
            "Requirement already satisfied: sympy in /usr/local/lib/python3.10/dist-packages (from torch>=1.10.0->pytorch_lightning==1.9.4) (1.11.1)\n",
            "Requirement already satisfied: networkx in /usr/local/lib/python3.10/dist-packages (from torch>=1.10.0->pytorch_lightning==1.9.4) (3.1)\n",
            "Requirement already satisfied: jinja2 in /usr/local/lib/python3.10/dist-packages (from torch>=1.10.0->pytorch_lightning==1.9.4) (3.1.2)\n",
            "Requirement already satisfied: triton==2.0.0 in /usr/local/lib/python3.10/dist-packages (from torch>=1.10.0->pytorch_lightning==1.9.4) (2.0.0)\n",
            "Requirement already satisfied: cmake in /usr/local/lib/python3.10/dist-packages (from triton==2.0.0->torch>=1.10.0->pytorch_lightning==1.9.4) (3.25.2)\n",
            "Requirement already satisfied: lit in /usr/local/lib/python3.10/dist-packages (from triton==2.0.0->torch>=1.10.0->pytorch_lightning==1.9.4) (16.0.6)\n",
            "Requirement already satisfied: attrs>=17.3.0 in /usr/local/lib/python3.10/dist-packages (from aiohttp!=4.0.0a0,!=4.0.0a1->fsspec[http]>2021.06.0->pytorch_lightning==1.9.4) (23.1.0)\n",
            "Requirement already satisfied: charset-normalizer<4.0,>=2.0 in /usr/local/lib/python3.10/dist-packages (from aiohttp!=4.0.0a0,!=4.0.0a1->fsspec[http]>2021.06.0->pytorch_lightning==1.9.4) (2.0.12)\n",
            "Requirement already satisfied: multidict<7.0,>=4.5 in /usr/local/lib/python3.10/dist-packages (from aiohttp!=4.0.0a0,!=4.0.0a1->fsspec[http]>2021.06.0->pytorch_lightning==1.9.4) (6.0.4)\n",
            "Requirement already satisfied: async-timeout<5.0,>=4.0.0a3 in /usr/local/lib/python3.10/dist-packages (from aiohttp!=4.0.0a0,!=4.0.0a1->fsspec[http]>2021.06.0->pytorch_lightning==1.9.4) (4.0.2)\n",
            "Requirement already satisfied: yarl<2.0,>=1.0 in /usr/local/lib/python3.10/dist-packages (from aiohttp!=4.0.0a0,!=4.0.0a1->fsspec[http]>2021.06.0->pytorch_lightning==1.9.4) (1.9.2)\n",
            "Requirement already satisfied: frozenlist>=1.1.1 in /usr/local/lib/python3.10/dist-packages (from aiohttp!=4.0.0a0,!=4.0.0a1->fsspec[http]>2021.06.0->pytorch_lightning==1.9.4) (1.3.3)\n",
            "Requirement already satisfied: aiosignal>=1.1.2 in /usr/local/lib/python3.10/dist-packages (from aiohttp!=4.0.0a0,!=4.0.0a1->fsspec[http]>2021.06.0->pytorch_lightning==1.9.4) (1.3.1)\n",
            "Requirement already satisfied: MarkupSafe>=2.0 in /usr/local/lib/python3.10/dist-packages (from jinja2->torch>=1.10.0->pytorch_lightning==1.9.4) (2.1.3)\n",
            "Requirement already satisfied: urllib3<1.27,>=1.21.1 in /usr/local/lib/python3.10/dist-packages (from requests->fsspec[http]>2021.06.0->pytorch_lightning==1.9.4) (1.26.16)\n",
            "Requirement already satisfied: certifi>=2017.4.17 in /usr/local/lib/python3.10/dist-packages (from requests->fsspec[http]>2021.06.0->pytorch_lightning==1.9.4) (2023.5.7)\n",
            "Requirement already satisfied: idna<4,>=2.5 in /usr/local/lib/python3.10/dist-packages (from requests->fsspec[http]>2021.06.0->pytorch_lightning==1.9.4) (3.4)\n",
            "Requirement already satisfied: mpmath>=0.19 in /usr/local/lib/python3.10/dist-packages (from sympy->torch>=1.10.0->pytorch_lightning==1.9.4) (1.3.0)\n",
            "Installing collected packages: lightning-utilities, torchmetrics, pytorch_lightning\n",
            "Successfully installed lightning-utilities-0.9.0 pytorch_lightning-1.9.4 torchmetrics-1.0.1\n"
          ]
        }
      ],
      "source": [
        "!pip install pytorch_lightning==1.9.4"
      ]
    },
    {
      "cell_type": "code",
      "execution_count": null,
      "metadata": {
        "colab": {
          "base_uri": "https://localhost:8080/"
        },
        "id": "X6QJEiP3jZI9",
        "outputId": "317b8210-6e8c-4bc1-ad40-45bfc583ee4a"
      },
      "outputs": [
        {
          "name": "stdout",
          "output_type": "stream",
          "text": [
            "Looking in indexes: https://pypi.org/simple, https://developer.download.nvidia.com/compute/redist\n",
            "Collecting nvidia-dali-cuda110\n",
            "  Downloading https://developer.download.nvidia.com/compute/redist/nvidia-dali-cuda110/nvidia_dali_cuda110-1.27.0-8625303-py3-none-manylinux2014_x86_64.whl (489.5 MB)\n",
            "\u001b[2K     \u001b[90m━━━━━━━━━━━━━━━━━━━━━━━━━━━━━━━━━━━━━━━\u001b[0m \u001b[32m489.5/489.5 MB\u001b[0m \u001b[31m1.9 MB/s\u001b[0m eta \u001b[36m0:00:00\u001b[0m\n",
            "\u001b[?25hRequirement already satisfied: astunparse>=1.6.0 in /usr/local/lib/python3.10/dist-packages (from nvidia-dali-cuda110) (1.6.3)\n",
            "Requirement already satisfied: gast>=0.3.3 in /usr/local/lib/python3.10/dist-packages (from nvidia-dali-cuda110) (0.4.0)\n",
            "Requirement already satisfied: dm-tree in /usr/local/lib/python3.10/dist-packages (from nvidia-dali-cuda110) (0.1.8)\n",
            "Requirement already satisfied: wheel<1.0,>=0.23.0 in /usr/local/lib/python3.10/dist-packages (from astunparse>=1.6.0->nvidia-dali-cuda110) (0.40.0)\n",
            "Requirement already satisfied: six<2.0,>=1.6.1 in /usr/local/lib/python3.10/dist-packages (from astunparse>=1.6.0->nvidia-dali-cuda110) (1.16.0)\n",
            "Installing collected packages: nvidia-dali-cuda110\n",
            "Successfully installed nvidia-dali-cuda110-1.27.0\n"
          ]
        }
      ],
      "source": [
        "!pip install --extra-index-url https://developer.download.nvidia.com/compute/redist --upgrade nvidia-dali-cuda110"
      ]
    },
    {
      "cell_type": "code",
      "execution_count": null,
      "metadata": {
        "colab": {
          "base_uri": "https://localhost:8080/"
        },
        "id": "I0asChkR-kw1",
        "outputId": "9cbaf419-61b8-4860-ddaf-5faad3e5c2ea"
      },
      "outputs": [
        {
          "name": "stdout",
          "output_type": "stream",
          "text": [
            "Cloning into 'apex'...\n",
            "remote: Enumerating objects: 11112, done.\u001b[K\n",
            "remote: Counting objects: 100% (238/238), done.\u001b[K\n",
            "remote: Compressing objects: 100% (130/130), done.\u001b[K\n",
            "remote: Total 11112 (delta 131), reused 185 (delta 107), pack-reused 10874\u001b[K\n",
            "Receiving objects: 100% (11112/11112), 15.39 MiB | 17.30 MiB/s, done.\n",
            "Resolving deltas: 100% (7677/7677), done.\n"
          ]
        }
      ],
      "source": [
        "#!git clone https://github.com/NVIDIA/apex.git && cd apex && pip install -v --no-cache-dir  --global-option=\"--cuda_ext\"  . && cd .. && rm -rf apex\n",
        "!git clone https://github.com/NVIDIA/apex\n",
        "!cd apex\n",
        "# if pip >= 23.1 (ref: https://pip.pypa.io/en/stable/news/#v23-1) which supports multiple `--config-settings` with the same key...\n",
        "# otherwise\n",
        "#pip install -v --disable-pip-version-check --no-cache-dir --no-build-isolation --global-option=\"--cpp_ext\" --global-option=\"--cuda_ext\" ./\n"
      ]
    },
    {
      "cell_type": "code",
      "execution_count": null,
      "metadata": {
        "colab": {
          "base_uri": "https://localhost:8080/",
          "height": 35
        },
        "id": "PojX2EVUmRAV",
        "outputId": "214d82eb-d58f-40f8-d522-be4443349dab"
      },
      "outputs": [
        {
          "data": {
            "application/vnd.google.colaboratory.intrinsic+json": {
              "type": "string"
            },
            "text/plain": [
              "'/content'"
            ]
          },
          "execution_count": 6,
          "metadata": {},
          "output_type": "execute_result"
        }
      ],
      "source": [
        "import os\n",
        "!cd apex\n",
        "\n",
        "!cd \"/content/apex\"\n",
        "os. getcwd()\n"
      ]
    },
    {
      "cell_type": "code",
      "execution_count": null,
      "metadata": {
        "id": "c_2wMpqltvKI"
      },
      "outputs": [],
      "source": [
        "os.chdir(\"/content/apex\")"
      ]
    },
    {
      "cell_type": "code",
      "execution_count": null,
      "metadata": {
        "colab": {
          "base_uri": "https://localhost:8080/"
        },
        "id": "234i6G7jnaFY",
        "outputId": "c0b776bd-259b-4d2d-cffb-8729db2fe8f0"
      },
      "outputs": [
        {
          "name": "stdout",
          "output_type": "stream",
          "text": [
            "Reading package lists... Done\n",
            "Building dependency tree       \n",
            "Reading state information... Done\n",
            "The following NEW packages will be installed:\n",
            "  ninja-build\n",
            "0 upgraded, 1 newly installed, 0 to remove and 15 not upgraded.\n",
            "Need to get 107 kB of archives.\n",
            "After this operation, 338 kB of additional disk space will be used.\n",
            "Get:1 http://archive.ubuntu.com/ubuntu focal/universe amd64 ninja-build amd64 1.10.0-1build1 [107 kB]\n",
            "Fetched 107 kB in 1s (111 kB/s)\n",
            "Selecting previously unselected package ninja-build.\n",
            "(Reading database ... 123105 files and directories currently installed.)\n",
            "Preparing to unpack .../ninja-build_1.10.0-1build1_amd64.deb ...\n",
            "Unpacking ninja-build (1.10.0-1build1) ...\n",
            "Setting up ninja-build (1.10.0-1build1) ...\n",
            "Processing triggers for man-db (2.9.1-1) ...\n"
          ]
        }
      ],
      "source": [
        "!apt-get install ninja-build\n"
      ]
    },
    {
      "cell_type": "code",
      "execution_count": null,
      "metadata": {
        "colab": {
          "background_save": true,
          "base_uri": "https://localhost:8080/"
        },
        "id": "UUVNJherkrpe",
        "outputId": "2c0795e3-54db-4b1d-ad08-07cc6e4dbe34"
      },
      "outputs": [],
      "source": [
        "!pip install -v --disable-pip-version-check --no-cache-dir --no-build-isolation --config-settings \"--build-option=--cuda_ext\" ./\n"
      ]
    },
    {
      "cell_type": "code",
      "execution_count": null,
      "metadata": {
        "colab": {
          "background_save": true,
          "base_uri": "https://localhost:8080/"
        },
        "id": "O0zndsGVoxMo",
        "outputId": "5e80e65d-01a0-4605-935a-bfaa80cb3068"
      },
      "outputs": [
        {
          "name": "stdout",
          "output_type": "stream",
          "text": [
            "Collecting git+https://github.com/NVIDIA/dllogger\n",
            "  Cloning https://github.com/NVIDIA/dllogger to /tmp/pip-req-build-brhhbjgz\n",
            "  Running command git clone --filter=blob:none --quiet https://github.com/NVIDIA/dllogger /tmp/pip-req-build-brhhbjgz\n",
            "  Resolved https://github.com/NVIDIA/dllogger to commit 0540a43971f4a8a16693a9de9de73c1072020769\n",
            "  Preparing metadata (setup.py) ... \u001b[?25l\u001b[?25hdone\n",
            "Building wheels for collected packages: DLLogger\n",
            "  Building wheel for DLLogger (setup.py) ... \u001b[?25l\u001b[?25hdone\n",
            "  Created wheel for DLLogger: filename=DLLogger-1.0.0-py3-none-any.whl size=5656 sha256=49a51dffa0959b604cc43d496d34b4a42076fc6bad62e2c2bb1be7fb5e8830e3\n",
            "  Stored in directory: /tmp/pip-ephem-wheel-cache-qk_e0eyb/wheels/41/52/02/4093763d9dcfd96d85b3d90dec4afdcf40b3934c0d41cd1f3c\n",
            "Successfully built DLLogger\n",
            "Installing collected packages: DLLogger\n",
            "Successfully installed DLLogger-1.0.0\n"
          ]
        }
      ],
      "source": [
        "!pip install  'git+https://github.com/NVIDIA/dllogger'"
      ]
    },
    {
      "cell_type": "code",
      "execution_count": null,
      "metadata": {
        "colab": {
          "background_save": true,
          "base_uri": "https://localhost:8080/"
        },
        "id": "biOSzVXcyNeJ",
        "outputId": "580634ea-07b3-4ab0-dda2-e65565e1449a"
      },
      "outputs": [
        {
          "name": "stdout",
          "output_type": "stream",
          "text": [
            "Requirement already satisfied: rich in /usr/local/lib/python3.10/dist-packages (13.4.2)\n",
            "Requirement already satisfied: markdown-it-py>=2.2.0 in /usr/local/lib/python3.10/dist-packages (from rich) (3.0.0)\n",
            "Requirement already satisfied: pygments<3.0.0,>=2.13.0 in /usr/local/lib/python3.10/dist-packages (from rich) (2.14.0)\n",
            "Requirement already satisfied: mdurl~=0.1 in /usr/local/lib/python3.10/dist-packages (from markdown-it-py>=2.2.0->rich) (0.1.2)\n"
          ]
        }
      ],
      "source": [
        "!#pip uninstall  rich\n",
        "!pip install -U rich"
      ]
    },
    {
      "cell_type": "code",
      "execution_count": null,
      "metadata": {
        "colab": {
          "background_save": true
        },
        "id": "AnCJ9ph0jAIh"
      },
      "outputs": [],
      "source": [
        "os.chdir(\"/content\")"
      ]
    },
    {
      "cell_type": "code",
      "execution_count": null,
      "metadata": {
        "colab": {
          "base_uri": "https://localhost:8080/"
        },
        "id": "PcP-6d9KF5Cm",
        "outputId": "7d7b9dd6-3dc5-4d1b-d225-19877fbfb47c"
      },
      "outputs": [
        {
          "name": "stdout",
          "output_type": "stream",
          "text": [
            "Mounted at /content/drive\n"
          ]
        }
      ],
      "source": [
        "from google.colab import drive\n",
        "drive.mount('/content/drive',force_remount=True)"
      ]
    },
    {
      "cell_type": "code",
      "execution_count": null,
      "metadata": {
        "colab": {
          "base_uri": "https://localhost:8080/"
        },
        "id": "cmXFMRQ5khtB",
        "outputId": "096dc3a9-a51d-49f9-d46b-7691d45c78d2"
      },
      "outputs": [
        {
          "name": "stdout",
          "output_type": "stream",
          "text": [
            "Preparing BraTS21 dataset from: /content/data/BraTS2021_train\n",
            "Preparing time: 425.32\n",
            "Finished!\n"
          ]
        }
      ],
      "source": [
        "import json\n",
        "import os\n",
        "from glob import glob\n",
        "from subprocess import call\n",
        "import time\n",
        "\n",
        "import nibabel\n",
        "import numpy as np\n",
        "from joblib import Parallel, delayed\n",
        "from skimage.exposure import rescale_intensity\n",
        "\n",
        "def load_nifty(directory, example_id, suffix):\n",
        "    return nibabel.load(os.path.join(directory, example_id + \"_\" + suffix + \".nii.gz\"))\n",
        "\n",
        "\n",
        "def load_channels(d, example_id):\n",
        "    return [load_nifty(d, example_id, suffix) for suffix in [\"flair\", \"t1\", \"t1ce\", \"t2\"]]\n",
        "\n",
        "\n",
        "def get_data(nifty, dtype=\"int16\"):\n",
        "    if dtype == \"int16\":\n",
        "        data = np.abs(nifty.get_fdata().astype(np.int16))\n",
        "        data[data == -32768] = 0\n",
        "        return data\n",
        "    return nifty.get_fdata().astype(np.uint8)\n",
        "\n",
        "def get_data_flair(nifty, dtype=\"int16\"):\n",
        "    if dtype == \"int16\":\n",
        "        data=nifty.get_fdata()\n",
        "        data=rescale_intensity(data, out_range=(0, 1))\n",
        "        data=data*32768\n",
        "        data = np.abs(data.astype(np.int16))\n",
        "        data[data == -32768] = 0\n",
        "        return data\n",
        "    return nifty.get_fdata().astype(np.uint8)\n",
        "\n",
        "def prepare_nifty(d):\n",
        "    example_id = d.split(\"/\")[-1]\n",
        "    flair, t1, t1ce, t2 = load_channels(d, example_id)\n",
        "    affine, header = t1.affine, t1.header\n",
        "    vol = np.stack([get_data_flair(flair), get_data(t1), get_data(t1ce), get_data(t2)], axis=-1)\n",
        "    vol = nibabel.nifti1.Nifti1Image(vol, affine, header=header)\n",
        "    nibabel.save(vol, os.path.join(d, example_id + \".nii.gz\"))\n",
        "\n",
        "    if os.path.exists(os.path.join(d, example_id + \"_seg.nii.gz\")):\n",
        "        seg = load_nifty(d, example_id, \"seg\")\n",
        "        affine, header = seg.affine, seg.header\n",
        "        vol = get_data(seg, \"unit8\")\n",
        "        vol[vol == 4] = 3\n",
        "        seg = nibabel.nifti1.Nifti1Image(vol, affine, header=header)\n",
        "        nibabel.save(seg, os.path.join(d, example_id + \"_seg.nii.gz\"))\n",
        "\n",
        "\n",
        "def prepare_dirs(data, train):\n",
        "    img_path, lbl_path = os.path.join(data, \"images\"), os.path.join(data, \"labels\")\n",
        "    call(f\"mkdir {img_path}\", shell=True)\n",
        "    if train:\n",
        "        call(f\"mkdir {lbl_path}\", shell=True)\n",
        "    dirs = glob(os.path.join(data, \"BraTS*\"))\n",
        "    for d in dirs:\n",
        "        if \"_\" in d.split(\"/\")[-1]:\n",
        "            files = glob(os.path.join(d, \"*.nii.gz\"))\n",
        "            for f in files:\n",
        "                if \"flair\" in f or \"t1\" in f or \"t1ce\" in f or \"t2\" in f:\n",
        "                    continue\n",
        "                if \"_seg\" in f:\n",
        "                    call(f\"mv {f} {lbl_path}\", shell=True)\n",
        "                else:\n",
        "                    call(f\"mv {f} {img_path}\", shell=True)\n",
        "        call(f\"rm -rf {d}\", shell=True)\n",
        "\n",
        "\n",
        "def prepare_dataset_json(data, train):\n",
        "    images, labels = glob(os.path.join(data, \"images\", \"*\")), glob(os.path.join(data, \"labels\", \"*\"))\n",
        "    images = sorted([img.replace(data + \"/\", \"\") for img in images])\n",
        "    labels = sorted([lbl.replace(data + \"/\", \"\") for lbl in labels])\n",
        "\n",
        "    modality = {\"0\": \"FLAIR\", \"1\": \"T1\", \"2\": \"T1CE\", \"3\": \"T2\"}\n",
        "    labels_dict = {\"0\": \"background\", \"1\": \"edema\", \"2\": \"non-enhancing tumor\", \"3\": \"enhancing tumour\"}\n",
        "    if train:\n",
        "        key = \"training\"\n",
        "        data_pairs = [{\"image\": img, \"label\": lbl} for (img, lbl) in zip(images, labels)]\n",
        "    else:\n",
        "        key = \"test\"\n",
        "        data_pairs = [{\"image\": img} for img in images]\n",
        "\n",
        "    dataset = {\n",
        "        \"labels\": labels_dict,\n",
        "        \"modality\": modality,\n",
        "        key: data_pairs,\n",
        "    }\n",
        "\n",
        "    with open(os.path.join(data, \"dataset.json\"), \"w\") as outfile:\n",
        "        json.dump(dataset, outfile)\n",
        "\n",
        "\n",
        "def run_parallel(func, args):\n",
        "    return Parallel(n_jobs=os.cpu_count())(delayed(func)(arg) for arg in args)\n",
        "\n",
        "\n",
        "def prepare_dataset(data, train):\n",
        "    print(f\"Preparing BraTS21 dataset from: {data}\")\n",
        "    start = time.time()\n",
        "    run_parallel(prepare_nifty, sorted(glob(os.path.join(data, \"BraTS*\"))))\n",
        "    prepare_dirs(data, train)\n",
        "    prepare_dataset_json(data, train)\n",
        "    end = time.time()\n",
        "    print(f\"Preparing time: {(end - start):.2f}\")\n",
        "\n",
        "prepare_dataset(\"/content/data/BraTS2021_train\", True)\n",
        "#prepare_dataset(\"/data/BraTS2021_val\", False)\n",
        "print(\"Finished!\")"
      ]
    },
    {
      "cell_type": "code",
      "execution_count": null,
      "metadata": {
        "colab": {
          "base_uri": "https://localhost:8080/"
        },
        "id": "4EDB4GtCzIr_",
        "outputId": "27724830-8cda-4461-d2ca-cc5cb8461867"
      },
      "outputs": [
        {
          "name": "stdout",
          "output_type": "stream",
          "text": [
            "Preparing BraTS21 dataset from: /content/data/BraTS2021_train\n",
            "Preparing time: 382.80\n",
            "Finished!\n"
          ]
        }
      ],
      "source": [
        "import json\n",
        "import os\n",
        "from glob import glob\n",
        "from subprocess import call\n",
        "import time\n",
        "\n",
        "import nibabel\n",
        "import numpy as np\n",
        "from joblib import Parallel, delayed\n",
        "from skimage.exposure import rescale_intensity\n",
        "\n",
        "def load_nifty(directory, example_id, suffix):\n",
        "    return nibabel.load(os.path.join(directory, example_id + \"_\" + suffix + \".nii.gz\"))\n",
        "\n",
        "\n",
        "def load_channels(d, example_id):\n",
        "    return [load_nifty(d, example_id, suffix) for suffix in [\"flair\", \"t1\", \"t1ce\", \"t2\"]]\n",
        "\n",
        "\n",
        "def get_data(nifty, dtype=\"int16\"):\n",
        "    if dtype == \"int16\":\n",
        "        data = np.abs(nifty.get_fdata().astype(np.int16))\n",
        "        data[data == -32768] = 0\n",
        "        return data\n",
        "    return nifty.get_fdata().astype(np.uint8)\n",
        "\n",
        "\n",
        "def prepare_nifty(d):\n",
        "    example_id = d.split(\"/\")[-1]\n",
        "    flair, t1, t1ce, t2 = load_channels(d, example_id)\n",
        "    affine, header = t1.affine, t1.header\n",
        "    vol = np.stack([get_data(flair), get_data(t1), get_data(t1ce), get_data(t2)], axis=-1)\n",
        "    vol = nibabel.nifti1.Nifti1Image(vol, affine, header=header)\n",
        "    nibabel.save(vol, os.path.join(d, example_id + \".nii.gz\"))\n",
        "\n",
        "    if os.path.exists(os.path.join(d, example_id + \"_seg.nii.gz\")):\n",
        "        seg = load_nifty(d, example_id, \"seg\")\n",
        "        affine, header = seg.affine, seg.header\n",
        "        vol = get_data(seg, \"unit8\")\n",
        "        vol[vol == 4] = 3\n",
        "        seg = nibabel.nifti1.Nifti1Image(vol, affine, header=header)\n",
        "        nibabel.save(seg, os.path.join(d, example_id + \"_seg.nii.gz\"))\n",
        "\n",
        "\n",
        "def prepare_dirs(data, train):\n",
        "    img_path, lbl_path = os.path.join(data, \"images\"), os.path.join(data, \"labels\")\n",
        "    call(f\"mkdir {img_path}\", shell=True)\n",
        "    if train:\n",
        "        call(f\"mkdir {lbl_path}\", shell=True)\n",
        "    dirs = glob(os.path.join(data, \"BraTS*\"))\n",
        "    for d in dirs:\n",
        "        if \"_\" in d.split(\"/\")[-1]:\n",
        "            files = glob(os.path.join(d, \"*.nii.gz\"))\n",
        "            for f in files:\n",
        "                if \"flair\" in f or \"t1\" in f or \"t1ce\" in f or \"t2\" in f:\n",
        "                    continue\n",
        "                if \"_seg\" in f:\n",
        "                    call(f\"mv {f} {lbl_path}\", shell=True)\n",
        "                else:\n",
        "                    call(f\"mv {f} {img_path}\", shell=True)\n",
        "        call(f\"rm -rf {d}\", shell=True)\n",
        "\n",
        "\n",
        "def prepare_dataset_json(data, train):\n",
        "    images, labels = glob(os.path.join(data, \"images\", \"*\")), glob(os.path.join(data, \"labels\", \"*\"))\n",
        "    images = sorted([img.replace(data + \"/\", \"\") for img in images])\n",
        "    labels = sorted([lbl.replace(data + \"/\", \"\") for lbl in labels])\n",
        "\n",
        "    modality = {\"0\": \"FLAIR\", \"1\": \"T1\", \"2\": \"T1CE\", \"3\": \"T2\"}\n",
        "    labels_dict = {\"0\": \"background\", \"1\": \"edema\", \"2\": \"non-enhancing tumor\", \"3\": \"enhancing tumour\"}\n",
        "    if train:\n",
        "        key = \"training\"\n",
        "        data_pairs = [{\"image\": img, \"label\": lbl} for (img, lbl) in zip(images, labels)]\n",
        "    else:\n",
        "        key = \"test\"\n",
        "        data_pairs = [{\"image\": img} for img in images]\n",
        "\n",
        "    dataset = {\n",
        "        \"labels\": labels_dict,\n",
        "        \"modality\": modality,\n",
        "        key: data_pairs,\n",
        "    }\n",
        "\n",
        "    with open(os.path.join(data, \"dataset.json\"), \"w\") as outfile:\n",
        "        json.dump(dataset, outfile)\n",
        "\n",
        "\n",
        "def run_parallel(func, args):\n",
        "    return Parallel(n_jobs=os.cpu_count())(delayed(func)(arg) for arg in args)\n",
        "\n",
        "\n",
        "def prepare_dataset(data, train):\n",
        "    print(f\"Preparing BraTS21 dataset from: {data}\")\n",
        "    start = time.time()\n",
        "    run_parallel(prepare_nifty, sorted(glob(os.path.join(data, \"BraTS*\"))))\n",
        "    prepare_dirs(data, train)\n",
        "    prepare_dataset_json(data, train)\n",
        "    end = time.time()\n",
        "    print(f\"Preparing time: {(end - start):.2f}\")\n",
        "\n",
        "prepare_dataset(\"/content/data/BraTS2021_train\", True)\n",
        "#prepare_dataset(\"/data/BraTS2021_val\", False)\n",
        "print(\"Finished!\")"
      ]
    },
    {
      "cell_type": "code",
      "execution_count": null,
      "metadata": {
        "colab": {
          "base_uri": "https://localhost:8080/"
        },
        "id": "5XrECePiqnJh",
        "outputId": "a4374c11-b089-4fcd-a491-d824e104ad32"
      },
      "outputs": [
        {
          "name": "stdout",
          "output_type": "stream",
          "text": [
            "1251\n"
          ]
        }
      ],
      "source": [
        "!ls \"/content/drive/MyDrive/unet_3d_nvidia/data/BraTS2021_train\" | wc -l\n"
      ]
    },
    {
      "cell_type": "code",
      "execution_count": null,
      "metadata": {
        "colab": {
          "base_uri": "https://localhost:8080/"
        },
        "id": "jy5anDgggWoO",
        "outputId": "d59151df-5d48-4e4c-927c-4d1b8e331864"
      },
      "outputs": [
        {
          "name": "stdout",
          "output_type": "stream",
          "text": [
            "2023-07-13 16:23:58.668951: I tensorflow/core/platform/cpu_feature_guard.cc:182] This TensorFlow binary is optimized to use available CPU instructions in performance-critical operations.\n",
            "To enable the following instructions: AVX2 FMA, in other operations, rebuild TensorFlow with the appropriate compiler flags.\n",
            "2023-07-13 16:24:00.114150: W tensorflow/compiler/tf2tensorrt/utils/py_utils.cc:38] TF-TRT Warning: Could not find TensorRT\n",
            "Preprocessing /content/data/BraTS2021_train\n",
            "2023-07-13 16:24:16.784492: W tensorflow/compiler/tf2tensorrt/utils/py_utils.cc:38] TF-TRT Warning: Could not find TensorRT\n",
            "2023-07-13 16:24:16.802472: W tensorflow/compiler/tf2tensorrt/utils/py_utils.cc:38] TF-TRT Warning: Could not find TensorRT\n",
            "Pre-processing time: 637.68\n",
            "Finished!\n"
          ]
        }
      ],
      "source": [
        "!python3 /content/DeepLearningExamples/PyTorch/Segmentation/nnUNet/preprocess.py --task 11  --exec_mode training --data \"/content/data\" --results \"/content/data\" --ohe\n",
        "print(\"Finished!\")"
      ]
    },
    {
      "cell_type": "code",
      "execution_count": null,
      "metadata": {
        "colab": {
          "base_uri": "https://localhost:8080/"
        },
        "id": "hd-NPE3OuPl7",
        "outputId": "7bc1cc82-b74b-41de-fd0b-34a5e247c9b1"
      },
      "outputs": [
        {
          "name": "stdout",
          "output_type": "stream",
          "text": [
            "{'patch_size': [128, 128, 128], 'spacings': [1.0, 1.0, 1.0], 'n_class': 4, 'in_channels': 5}\n"
          ]
        }
      ],
      "source": [
        "import pickle\n",
        "with open('/content/drive/MyDrive/validation/content/drive/MyDrive/11_3d/config.pkl', 'rb') as f:\n",
        "    data = pickle.load(f)\n",
        "print(data)"
      ]
    },
    {
      "cell_type": "code",
      "execution_count": null,
      "metadata": {
        "id": "1bDxMOgZaHeq"
      },
      "outputs": [],
      "source": [
        "import torch.nn as nn\n",
        "from monai.losses import DiceLoss\n",
        "\n",
        "class Loss(nn.Module):\n",
        "    def __init__(self):\n",
        "        super(Loss, self).__init__()\n",
        "        self.dice = DiceLoss(sigmoid=True, batch=True)\n",
        "        self.ce = nn.BCEWithLogitsLoss()\n",
        "\n",
        "    def _loss(self, p, y):\n",
        "        return self.dice(p, y) + self.ce(p, y.float())\n",
        "\n",
        "    def forward(self, p, y):\n",
        "        y_wt, y_tc, y_et = y > 0, ((y == 1) + (y == 3)) > 0, y == 3\n",
        "        p_wt, p_tc, p_et = p[:, 0].unsqueeze(1), p[:, 1].unsqueeze(1), p[:, 2].unsqueeze(1)\n",
        "        l_wt, l_tc, l_et = self._loss(p_wt, y_wt), self._loss(p_tc, y_tc), self._loss(p_et, y_et)\n",
        "        return l_wt + l_tc + l_et"
      ]
    },
    {
      "cell_type": "code",
      "execution_count": null,
      "metadata": {
        "colab": {
          "base_uri": "https://localhost:8080/"
        },
        "id": "HMpriV3iWUhY",
        "outputId": "acf1ade8-3b8c-4d49-f34b-e3bfbd242bec"
      },
      "outputs": [],
      "source": [
        "!python /content/DeepLearningExamples/PyTorch/Segmentation/nnUNet/main.py --optimizer sgd  --brats22_model   --learning_rate 0.0003 --epochs 120 --fold 0 --amp --gpus 1 --task 11 --nfolds 7 --save_ckpt --data /content/data/11_3d --results /content/data/11_3d  --ckpt_store_dir /content/data/11_3d\n",
        "# --ckpt_path /content/data/checkpoints/epoch=16-dice=82.39.ckpt"
      ]
    },
    {
      "cell_type": "code",
      "execution_count": null,
      "metadata": {
        "id": "Qg0tZOwTjVpX"
      },
      "outputs": [],
      "source": [
        "!python /content/DeepLearningExamples/PyTorch/Segmentation/nnUNet/main.py --brats22_model --exec_mode \"predict\" --gpus 1 --amp --save_preds --task 11 --data \"/content/data/11_3d\" --ckpt_path \"/content/drive/MyDrive/epoch=28-dice=82.83.ckpt\" --results \"/content/drive/MyDrive/validation_unet_333d\" --tta\n",
        "#--brats22_model"
      ]
    },
    {
      "cell_type": "code",
      "execution_count": null,
      "metadata": {
        "colab": {
          "background_save": true,
          "base_uri": "https://localhost:8080/"
        },
        "id": "LvtvzlpfXJOV",
        "outputId": "ae0cb9cb-d09c-48ec-98d6-8ca322abfa26"
      },
      "outputs": [
        {
          "name": "stdout",
          "output_type": "stream",
          "text": [
            "2023-07-13 19:19:03.897231: I tensorflow/core/platform/cpu_feature_guard.cc:182] This TensorFlow binary is optimized to use available CPU instructions in performance-critical operations.\n",
            "To enable the following instructions: AVX2 AVX512F FMA, in other operations, rebuild TensorFlow with the appropriate compiler flags.\n",
            "2023-07-13 19:19:05.687089: W tensorflow/compiler/tf2tensorrt/utils/py_utils.cc:38] TF-TRT Warning: Could not find TensorRT\n",
            "0 training, 0 validation, 150 test examples\n",
            "Filters: [64, 96, 128, 192, 256, 384, 512],\n",
            "Kernels: [[3, 3, 3], [3, 3, 3], [3, 3, 3], [3, 3, 3], [3, 3, 3], [3, 3, 3], [3, 3, 3]]\n",
            "Strides: [[1, 1, 1], [2, 2, 2], [2, 2, 2], [2, 2, 2], [2, 2, 2], [2, 2, 2], [2, 2, 2]]\n",
            "/usr/local/lib/python3.10/dist-packages/pytorch_lightning/core/saving.py:255: UserWarning: Found keys that are not in the model state dict but in the checkpoint: ['model.deep_supervision_heads.0.conv.conv.weight', 'model.deep_supervision_heads.0.conv.conv.bias', 'model.deep_supervision_heads.1.conv.conv.weight', 'model.deep_supervision_heads.1.conv.conv.bias', 'model.skip_layers.next_layer.super_head.conv.conv.weight', 'model.skip_layers.next_layer.super_head.conv.conv.bias', 'model.skip_layers.next_layer.next_layer.super_head.conv.conv.weight', 'model.skip_layers.next_layer.next_layer.super_head.conv.conv.bias']\n",
            "  rank_zero_warn(\n",
            "Using 16bit None Automatic Mixed Precision (AMP)\n",
            "Trainer already configured with model summary callbacks: [<class 'pytorch_lightning.callbacks.model_summary.ModelSummary'>]. Skipping setting a default `ModelSummary` callback.\n",
            "GPU available: True (cuda), used: True\n",
            "TPU available: False, using: 0 TPU cores\n",
            "IPU available: False, using: 0 IPUs\n",
            "HPU available: False, using: 0 HPUs\n",
            "`Trainer(limit_train_batches=1.0)` was configured so 100% of the batches per epoch will be used..\n",
            "`Trainer(limit_val_batches=1.0)` was configured so 100% of the batches will be used..\n",
            "`Trainer(limit_test_batches=1.0)` was configured so 100% of the batches will be used..\n",
            "Initializing distributed: GLOBAL_RANK: 0, MEMBER: 1/1\n",
            "----------------------------------------------------------------------------------------------------\n",
            "distributed_backend=nccl\n",
            "All distributed processes registered. Starting with 1 processes\n",
            "----------------------------------------------------------------------------------------------------\n",
            "\n",
            "LOCAL_RANK: 0 - CUDA_VISIBLE_DEVICES: [0]\n",
            "\u001b[2K\u001b[37mTesting\u001b[0m \u001b[35m━━━━━━━━━━━━━━━━━━━━━━━━━\u001b[0m\u001b[90m╺\u001b[0m\u001b[90m━━━━━━━━━\u001b[0m \u001b[37m109/150\u001b[0m \u001b[37m0:29:18 • 0:11:08\u001b[0m \u001b[37m0.06it/s\u001b[0m "
          ]
        }
      ],
      "source": [
        "!python /content/DeepLearningExamples/PyTorch/Segmentation/nnUNet/main.py --exec_mode \"predict\" --gpus 1 --depth 6 --filters 64 96 128 192 256 384 512 --min_fmap 2 --amp --save_preds --task 11 --data \"/content/data/11_3d\" --ckpt_path \"/content/drive/MyDrive/epoch=7-dice=84.40.ckpt\" --results \"/content/drive/MyDrive/finally_black\" --tta\n"
      ]
    },
    {
      "cell_type": "code",
      "execution_count": null,
      "metadata": {
        "colab": {
          "base_uri": "https://localhost:8080/"
        },
        "id": "JfUEFMdqLIBO",
        "outputId": "2b13d0d2-06ab-48ee-acd1-420844c8ce2d"
      },
      "outputs": [],
      "source": [
        "import os\n",
        "from glob import glob\n",
        "from subprocess import call\n",
        "\n",
        "import nibabel as nib\n",
        "import numpy as np\n",
        "from scipy.ndimage.measurements import label\n",
        "\n",
        "\n",
        "def to_lbl(pred):\n",
        "    \"\"\"\n",
        "    enh = pred[2]\n",
        "    c1, c2, c3 = pred[0] > 0.5, pred[1] > 0.5, pred[2] > 0.5\n",
        "    pred = (c1 > 0).astype(np.uint8)\n",
        "    pred[(c2 == False) * (c1 == True)] = 2\n",
        "    pred[(c3 == True) * (c1 == True)] = 4\n",
        "    print(pred.shape)\n",
        "    '''\n",
        "    components, n = label(pred == 4)\n",
        "    for et_idx in range(1, n + 1):\n",
        "        _, counts = np.unique(pred[components == et_idx], return_counts=True)\n",
        "        if 1 < counts[0] and counts[0] < 4 and np.mean(enh[components == et_idx]) < 0.9:\n",
        "            pred[components == et_idx] = 1\n",
        "\n",
        "    et = pred == 4\n",
        "    if 0 < et.sum() and et.sum() < 5 and np.mean(enh[et]) < 0.9:\n",
        "        pred[et] = 1\n",
        "    '''\n",
        "    \"\"\"\n",
        "    pred[pred>0.5]=1\n",
        "    pred[pred<0.5]=0\n",
        "    print(pred.shape)\n",
        "    #pred = np.transpose(pred, (2, 1, 0)).astype(np.uint8)\n",
        "    return pred\n",
        "\n",
        "\n",
        "def prepare_preditions(e):\n",
        "    fname = e[0].split(\"/\")[-1].split(\".\")[0]\n",
        "    preds = [np.load(f) for f in e]\n",
        "    p = to_lbl(np.mean(preds, 0))\n",
        "\n",
        "    img = nib.load(f\"/content/drive/MyDrive/data/BraTS2021_train/images/{fname}.nii.gz\")\n",
        "    nib.save(\n",
        "        nib.Nifti1Image(p, img.affine, header=img.header),\n",
        "        os.path.join(\"/content/drive/MyDrive/nvidia T1CCCC final please/final_preds\", fname + \".nii.gz\"),\n",
        "    )\n",
        "!rm -r \"/content/drive/MyDrive/nvidia T1CCCC final please/final_preds\"\n",
        "os.makedirs(\"/content/drive/MyDrive/nvidia T1CCCC final please/final_preds\")\n",
        "preds = sorted(glob(f\"/content/drive/MyDrive/nvidia T1CCCC final please/predictions_last_task=11_fold=0_tta*\"))\n",
        "examples = list(zip(*[sorted(glob(f\"{p}/*.npy\")) for p in preds]))\n",
        "print(\"Preparing final predictions\")\n",
        "for e in examples:\n",
        "    prepare_preditions(e)\n",
        "print(\"Finished!\")"
      ]
    },
    {
      "cell_type": "code",
      "execution_count": null,
      "metadata": {
        "colab": {
          "base_uri": "https://localhost:8080/"
        },
        "id": "3WnNIgi1Hddg",
        "outputId": "941ee8ef-8771-4396-d4bc-859724fbc592"
      },
      "outputs": [],
      "source": [
        "import os\n",
        "from glob import glob\n",
        "from subprocess import call\n",
        "\n",
        "import nibabel as nib\n",
        "import numpy as np\n",
        "from scipy.ndimage.measurements import label\n",
        "\n",
        "\n",
        "def to_lbl(pred):\n",
        "    print(pred.shape)\n",
        "    pred = np.argmax(pred, axis=0)\n",
        "\n",
        "    \"\"\"\n",
        "    enh = pred[2]\n",
        "    c1, c2, c3 = pred[0] > 0.5, pred[1] > 0.5, pred[2] > 0.5\n",
        "    pred = (c1 > 0).astype(np.uint8)\n",
        "    pred[(c2 == False) * (c1 == True)] = 2\n",
        "    pred[(c3 == True) * (c1 == True)] = 4\n",
        "    print(pred.shape)\n",
        "    '''\n",
        "    components, n = label(pred == 4)\n",
        "    for et_idx in range(1, n + 1):\n",
        "        _, counts = np.unique(pred[components == et_idx], return_counts=True)\n",
        "        if 1 < counts[0] and counts[0] < 4 and np.mean(enh[components == et_idx]) < 0.9:\n",
        "            pred[components == et_idx] = 1\n",
        "\n",
        "    et = pred == 4\n",
        "    if 0 < et.sum() and et.sum() < 5 and np.mean(enh[et]) < 0.9:\n",
        "        pred[et] = 1\n",
        "    '''\n",
        "    \"\"\"\n",
        "\n",
        "    pred = np.transpose(pred, (2, 1, 0)).astype(np.uint8)\n",
        "    print(pred.shape)\n",
        "    return pred\n",
        "\n",
        "def prepare_preditions(e):\n",
        "    fname = e[0].split(\"/\")[-1].split(\".\")[0]\n",
        "    preds = [np.load(f) for f in e]\n",
        "    p = to_lbl(np.mean(preds, 0))\n",
        "\n",
        "    img = nib.load(f\"/content/drive/MyDrive/finally_black_flair/data/BraTS2021_train/images/{fname}.nii.gz\")\n",
        "    nib.save(\n",
        "        nib.Nifti1Image(p, img.affine, header=img.header),\n",
        "        os.path.join(\"/content/drive/MyDrive/finally_black_flair/final_preds\", fname + \".nii.gz\"),\n",
        "    )\n",
        "!rm -r \"/content/drive/MyDrive/finally_black_flair/final_preds\"\n",
        "os.makedirs(\"/content/drive/MyDrive/finally_black_flair/final_preds\")\n",
        "preds = sorted(glob(f\"/content/drive/MyDrive/finally_black_flair/predictions_epoch=7-dice=84_40_task=11_fold=0_tta*\"))\n",
        "examples = list(zip(*[sorted(glob(f\"{p}/*.npy\")) for p in preds]))\n",
        "print(\"Preparing final predictions\")\n",
        "for e in examples:\n",
        "    prepare_preditions(e)\n",
        "print(\"Finished!\")"
      ]
    },
    {
      "cell_type": "code",
      "execution_count": null,
      "metadata": {
        "colab": {
          "base_uri": "https://localhost:8080/",
          "height": 486
        },
        "id": "VT0S3wpEeY6Y",
        "outputId": "28d23c12-f7cc-4cf6-f795-4d4aff200e5a"
      },
      "outputs": [
        {
          "name": "stdout",
          "output_type": "stream",
          "text": [
            "[0. 1. 2. 3.]\n",
            "(144, 185, 143)\n"
          ]
        },
        {
          "data": {
            "text/plain": [
              "<matplotlib.image.AxesImage at 0x7c119b2d9e10>"
            ]
          },
          "execution_count": 15,
          "metadata": {},
          "output_type": "execute_result"
        },
        {
          "data": {
            "image/png": "[encoded data removed]",
            "text/plain": [
              "<Figure size 640x480 with 1 Axes>"
            ]
          },
          "metadata": {},
          "output_type": "display_data"
        }
      ],
      "source": [
        "import nibabel as nib\n",
        "import matplotlib.pyplot as plt\n",
        "import numpy as np\n",
        "\n",
        "path = '/content/drive/MyDrive/finallyt1+t2/final_preds/BraTS2021_00045.nii.gz'\n",
        "Nifti_img  = nib.load(path)\n",
        "nii_data = Nifti_img.get_fdata()\n",
        "print(np.unique(nii_data))\n",
        "nii_data=nii_data.T\n",
        "print(nii_data.shape)\n",
        "plt.imshow(nii_data[60,:,:],cmap='gray')"
      ]
    },
    {
      "cell_type": "code",
      "execution_count": null,
      "metadata": {
        "colab": {
          "base_uri": "https://localhost:8080/",
          "height": 486
        },
        "id": "KwPhiJlDr1BC",
        "outputId": "13cedb78-243f-455d-ccca-f63934d65b20"
      },
      "outputs": [
        {
          "name": "stdout",
          "output_type": "stream",
          "text": [
            "[0. 1. 2. 3.]\n",
            "(144, 185, 143)\n"
          ]
        },
        {
          "data": {
            "text/plain": [
              "<matplotlib.image.AxesImage at 0x7c119b264c10>"
            ]
          },
          "execution_count": 14,
          "metadata": {},
          "output_type": "execute_result"
        },
        {
          "data": {
            "image/png": "[encoded data removed]",
            "text/plain": [
              "<Figure size 640x480 with 1 Axes>"
            ]
          },
          "metadata": {},
          "output_type": "display_data"
        }
      ],
      "source": [
        "import nibabel as nib\n",
        "import matplotlib.pyplot as plt\n",
        "import numpy as np\n",
        "\n",
        "path = '/content/drive/MyDrive/finally_black_flair/final_preds/BraTS2021_00045.nii.gz'\n",
        "Nifti_img  = nib.load(path)\n",
        "nii_data = Nifti_img.get_fdata()\n",
        "print(np.unique(nii_data))\n",
        "nii_data=nii_data.T\n",
        "print(nii_data.shape)\n",
        "plt.imshow(nii_data[65,:,:],cmap='gray')"
      ]
    },
    {
      "cell_type": "code",
      "execution_count": null,
      "metadata": {
        "id": "iVUIDuMgrhox"
      },
      "outputs": [],
      "source": []
    },
    {
      "cell_type": "code",
      "execution_count": null,
      "metadata": {
        "colab": {
          "base_uri": "https://localhost:8080/",
          "height": 451
        },
        "id": "azIF-DbobcPR",
        "outputId": "2cd0153b-105a-41a9-db4f-ab6b08dea71b"
      },
      "outputs": [
        {
          "data": {
            "text/plain": [
              "<matplotlib.image.AxesImage at 0x7b8d030a8cd0>"
            ]
          },
          "execution_count": 10,
          "metadata": {},
          "output_type": "execute_result"
        },
        {
          "data": {
            "image/png": "[encoded data removed]",
            "text/plain": [
              "<Figure size 640x480 with 1 Axes>"
            ]
          },
          "metadata": {},
          "output_type": "display_data"
        }
      ],
      "source": [
        "nii_data[nii_data>100]=1\n",
        "plt.imshow(nii_data[0,80,:,:])"
      ]
    },
    {
      "cell_type": "code",
      "execution_count": null,
      "metadata": {
        "colab": {
          "background_save": true,
          "base_uri": "https://localhost:8080/",
          "height": 469
        },
        "id": "g6Ob8-3kmg7A",
        "outputId": "5bcd1d9e-ac8a-4ef7-eff0-d8d07e0f81ac"
      },
      "outputs": [
        {
          "name": "stdout",
          "output_type": "stream",
          "text": [
            "(4, 131, 167, 135)\n",
            "(4, 131, 167, 135)\n"
          ]
        },
        {
          "data": {
            "image/png": "[encoded data removed]",
            "text/plain": [
              "<Figure size 640x480 with 1 Axes>"
            ]
          },
          "metadata": {},
          "output_type": "display_data"
        }
      ],
      "source": [
        "import numpy as np\n",
        "import matplotlib.pyplot as plt\n",
        "\n",
        "pred=np.load(\"/content/drive/MyDrive/nvidia T1 final please/predictions_epoch=7-dice=84_40_task=11_fold=0_tta/BraTS2021_00009.npy\")\n",
        "print(pred.shape)\n",
        "plt.imshow(pred[2,70,:,:])\n",
        "def combine_channels(arr):\n",
        "    # Find the maximum channel along axis 0\n",
        "    thresholds = [0, 0.1, 0.005, 0.1]  # Adjust the thresholds as needed\n",
        "\n",
        "# Apply thresholding to each channel\n",
        "    for i in range(arr.shape[0]):\n",
        "        mask = arr[i] > thresholds[i]\n",
        "        arr[i][mask] = 1\n",
        "        arr[i][~mask] = 0\n",
        "\n",
        "\n",
        "    # Subtract 1 to make the range [0, 3]\n",
        "    #combined_arr = max_channel - 1\n",
        "\n",
        "    # Replace negative values with 0\n",
        "    #combined_arr[combined_arr < 0] = 0\n",
        "\n",
        "    return arr\n",
        "\n",
        "# Example 4D array with shape (4, 155, 240, 240)\n",
        "arr_4d = pred\n",
        "\n",
        "# Combine channels into a 3D array\n",
        "arr_3d = combine_channels(arr_4d)\n",
        "plt.imshow(arr_3d[2,90,:,:])\n",
        "# Output the shape of the resulting array\n",
        "print(arr_3d.shape)"
      ]
    },
    {
      "cell_type": "code",
      "execution_count": null,
      "metadata": {
        "colab": {
          "base_uri": "https://localhost:8080/",
          "height": 469
        },
        "id": "aonvUIGD4Hfy",
        "outputId": "57061387-1a9e-4ca3-f1dc-1f336a7de34c"
      },
      "outputs": [
        {
          "name": "stdout",
          "output_type": "stream",
          "text": [
            "(4, 146, 171, 136)\n"
          ]
        },
        {
          "data": {
            "text/plain": [
              "<matplotlib.image.AxesImage at 0x7fa4c36cf6d0>"
            ]
          },
          "execution_count": 3,
          "metadata": {},
          "output_type": "execute_result"
        },
        {
          "data": {
            "image/png": "[encoded data removed]",
            "text/plain": [
              "<Figure size 640x480 with 1 Axes>"
            ]
          },
          "metadata": {},
          "output_type": "display_data"
        }
      ],
      "source": [
        "import numpy as np\n",
        "import matplotlib.pyplot as plt\n",
        "\n",
        "pred=np.load(\"/content/drive/MyDrive/finally_t1ccccc_nividia/predictions_epoch=7-dice=84_40_task=11_fold=0_tta/BraTS2021_00000.npy\")\n",
        "print(pred.shape)\n",
        "plt.imshow(pred[2,70,:,:])"
      ]
    },
    {
      "cell_type": "code",
      "execution_count": null,
      "metadata": {
        "colab": {
          "base_uri": "https://localhost:8080/",
          "height": 486
        },
        "id": "hT2ZlT18c93y",
        "outputId": "dc3d549f-1282-4493-fd67-f647ae134cc0"
      },
      "outputs": [
        {
          "name": "stdout",
          "output_type": "stream",
          "text": [
            "(3, 146, 171, 136)\n",
            "(136, 171, 146)\n"
          ]
        },
        {
          "data": {
            "text/plain": [
              "<matplotlib.image.AxesImage at 0x7f0461a80370>"
            ]
          },
          "execution_count": 57,
          "metadata": {},
          "output_type": "execute_result"
        },
        {
          "data": {
            "image/png": "[encoded data removed]",
            "text/plain": [
              "<Figure size 640x480 with 1 Axes>"
            ]
          },
          "metadata": {},
          "output_type": "display_data"
        }
      ],
      "source": [
        "import nibabel as nib\n",
        "import matplotlib.pyplot as plt\n",
        "\n",
        "path = '/content/drive/MyDrive/nvidia T1 final please/experiment/final_preds/BraTS2021_00000.nii.gz'\n",
        "path_seg=\"/content/data/BraTS2021_train/labels/BraTS2021_00000_seg.nii.gz\"\n",
        "Nifti_img  = nib.load(path)\n",
        "Nifti_seg=nib.load(path_seg)\n",
        "nii_data = Nifti_img.get_fdata()\n",
        "nii_seg=Nifti_seg.get_fdata()\n",
        "print(nii_data.shape)\n",
        "print(nii_seg.shape)\n",
        "plt.imshow(nii_data[2,:,:,100])\n",
        "plt.imshow(nii_seg[:,:,70])"
      ]
    },
    {
      "cell_type": "code",
      "execution_count": null,
      "metadata": {
        "id": "G4zg6j1xjPwX"
      },
      "outputs": [],
      "source": [
        "(3, 146, 171, 136)\n",
        "(136, 171, 146)"
      ]
    }
  ],
  "metadata": {
    "colab": {
      "provenance": []
    },
    "kernelspec": {
      "display_name": "Python 3",
      "name": "python3"
    },
    "language_info": {
      "name": "python"
    }
  },
  "nbformat": 4,
  "nbformat_minor": 0
}
