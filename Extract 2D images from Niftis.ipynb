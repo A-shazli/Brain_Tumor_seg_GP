{
 "cells": [
  {
   "cell_type": "code",
   "execution_count": 25,
   "id": "cd7e847d",
   "metadata": {
    "scrolled": false
   },
   "outputs": [],
   "source": [
    "import nibabel as nib\n",
    "import numpy as np\n",
    "import imageio\n",
    "import os\n",
    "import glob"
   ]
  },
  {
   "cell_type": "markdown",
   "id": "20cbff00",
   "metadata": {},
   "source": [
    "### Create results folders"
   ]
  },
  {
   "cell_type": "code",
   "execution_count": 27,
   "id": "1767c21b",
   "metadata": {},
   "outputs": [],
   "source": [
    "# results_T1_path = r'C:\\Users\\Mohamed Bushnaq\\PycharmProjects\\BraTS 10 examples datasets\\Final_T1_Results\\Final_results_T1_imgs'\n",
    "# results_T2_path = r'C:\\Users\\Mohamed Bushnaq\\PycharmProjects\\BraTS 10 examples datasets\\Final_T2_Results\\Final_results_T2_imgs'\n",
    "\n",
    "results_T1_path = r'C:\\Users\\Mohamed Bushnaq\\Graduation Projects GANs Conversion\\Brats Images Cropped For GaNs Modality Conversion 150\\T1_imgs'\n",
    "results_T2_path = r'C:\\Users\\Mohamed Bushnaq\\Graduation Projects GANs Conversion\\Brats Images Cropped For GaNs Modality Conversion 150\\T2_imgs'\n",
    "\n",
    "\n",
    "if not os.path.exists(results_T1_path):\n",
    "    os.makedirs(results_T1_path)\n",
    "    \n",
    "if not os.path.exists(results_T2_path):\n",
    "    os.makedirs(results_T2_path)"
   ]
  },
  {
   "cell_type": "code",
   "execution_count": 28,
   "id": "ca36c185",
   "metadata": {},
   "outputs": [],
   "source": [
    "# root_path = r'C:\\Users\\Mohamed Bushnaq\\PycharmProjects\\BraTS 10 examples datasets\\Sample BraTS21 10 Examples Depth Cropped'\n",
    "root_path = r'C:\\Users\\Mohamed Bushnaq\\Graduation Projects GANs Conversion\\Brats Cropped For GaNs Modality Conversion 150'\n",
    "\n",
    "data_list = sorted(glob.glob(root_path + '/*'))        #list of paths of the inside files\n",
    "\n",
    "# root_T1_path = r'C:\\Users\\Mohamed Bushnaq\\PycharmProjects\\BraTS 10 examples datasets\\10 examples T1\\BraTS2021_00000_t1.nii.gz'\n",
    "# root_T2_path = r'C:\\Users\\Mohamed Bushnaq\\PycharmProjects\\BraTS 10 examples datasets\\10 examples T2\\BraTS2021_00000_t2.nii.gz'\n",
    "\n",
    "\n",
    "# results_T1_path = r'C:\\Users\\Mohamed Bushnaq\\Graduation Projects GANs Conversion\\Test el test T1'\n",
    "# results_T2_path = r'C:\\Users\\Mohamed Bushnaq\\Graduation Projects GANs Conversion\\Test el test T2'"
   ]
  },
  {
   "cell_type": "code",
   "execution_count": null,
   "id": "776536a5",
   "metadata": {},
   "outputs": [],
   "source": [
    "for i in range(150):\n",
    "    modules_list = sorted(glob.glob(data_list[i] + '/*'))          #modules list of a single volume\n",
    "    \n",
    "    t1_vol_path = modules_list[2]                         #path of T1 volume is always the third ('sorted')\n",
    "    t2_vol_path = modules_list[4]                         #path of T2 volume is always the fifth ('sorted')\n",
    "    \n",
    "    T1_nifti = nib.load(t1_vol_path).get_fdata()                          #T1 volume\n",
    "    T2_nifti = nib.load(t2_vol_path).get_fdata()                          #T2 volume\n",
    "    \n",
    "    for i in range(T1_nifti.shape[2]):\n",
    "        t1_nifti_slice = T1_nifti[:, :, i]\n",
    "        t2_nifti_slice = T2_nifti[:, :, i]\n",
    "        \n",
    "        t1_nifti_slice = np.pad(t1_nifti_slice, 8)\n",
    "        t2_nifti_slice = np.pad(t2_nifti_slice, 8)\n",
    "        \n",
    "        t1_rslt_path = results_T1_path + '/' + str(i) + '_' + t1_vol_path.split('\\\\')[-1] + '.png'\n",
    "        t2_rslt_path = results_T2_path + '/' + str(i) + '_' + t2_vol_path.split('\\\\')[-1] + '.png'\n",
    "\n",
    "        imageio.imwrite(t1_rslt_path, t1_nifti_slice)\n",
    "        imageio.imwrite(t2_rslt_path, t2_nifti_slice)"
   ]
  }
 ],
 "metadata": {
  "kernelspec": {
   "display_name": "Python 3 (ipykernel)",
   "language": "python",
   "name": "python3"
  },
  "language_info": {
   "codemirror_mode": {
    "name": "ipython",
    "version": 3
   },
   "file_extension": ".py",
   "mimetype": "text/x-python",
   "name": "python",
   "nbconvert_exporter": "python",
   "pygments_lexer": "ipython3",
   "version": "3.10.8"
  }
 },
 "nbformat": 4,
 "nbformat_minor": 5
}
